{
  "nbformat": 4,
  "nbformat_minor": 0,
  "metadata": {
    "colab": {
      "name": "ML_project.ipynb",
      "provenance": [],
      "collapsed_sections": []
    },
    "kernelspec": {
      "name": "python3",
      "display_name": "Python 3"
    },
    "language_info": {
      "name": "python"
    }
  },
  "cells": [
    {
      "cell_type": "markdown",
      "source": [
        "IMPORT YANG DIPERLUKAN"
      ],
      "metadata": {
        "id": "RdLLGDKpqFOm"
      }
    },
    {
      "cell_type": "code",
      "source": [
        "from google.colab import drive\n",
        "drive.mount('/content/drive')"
      ],
      "metadata": {
        "colab": {
          "base_uri": "https://localhost:8080/"
        },
        "id": "HiI3Cm_GIKdE",
        "outputId": "456e8f22-9a1d-42d3-8e18-66bafc6bbdce"
      },
      "execution_count": null,
      "outputs": [
        {
          "output_type": "stream",
          "name": "stdout",
          "text": [
            "Drive already mounted at /content/drive; to attempt to forcibly remount, call drive.mount(\"/content/drive\", force_remount=True).\n"
          ]
        }
      ]
    },
    {
      "cell_type": "code",
      "execution_count": null,
      "metadata": {
        "id": "UqoOee4FnwD1"
      },
      "outputs": [],
      "source": [
        "import pandas as pd\n",
        "import numpy as np\n",
        "from sklearn.model_selection import train_test_split\n",
        "from sklearn.preprocessing import OrdinalEncoder"
      ]
    },
    {
      "cell_type": "code",
      "source": [
        "df = pd.read_csv(\"/content/drive/MyDrive/UAS_ML/cyberbullying_tweets.csv\")"
      ],
      "metadata": {
        "id": "FFlwHVrAIjXL"
      },
      "execution_count": null,
      "outputs": []
    },
    {
      "cell_type": "code",
      "source": [
        "df.head"
      ],
      "metadata": {
        "id": "OeTJyAHyJE1z",
        "outputId": "55b74cbf-b389-4c9a-8fd1-8f5a6ab3d4ef",
        "colab": {
          "base_uri": "https://localhost:8080/"
        }
      },
      "execution_count": null,
      "outputs": [
        {
          "output_type": "execute_result",
          "data": {
            "text/plain": [
              "<bound method NDFrame.head of                                               tweet_text cyberbullying_type\n",
              "0      In other words #katandandre, your food was cra...  not_cyberbullying\n",
              "1      Why is #aussietv so white? #MKR #theblock #ImA...  not_cyberbullying\n",
              "2      @XochitlSuckkks a classy whore? Or more red ve...  not_cyberbullying\n",
              "3      @Jason_Gio meh. :P  thanks for the heads up, b...  not_cyberbullying\n",
              "4      @RudhoeEnglish This is an ISIS account pretend...  not_cyberbullying\n",
              "...                                                  ...                ...\n",
              "47687  Black ppl aren't expected to do anything, depe...          ethnicity\n",
              "47688  Turner did not withhold his disappointment. Tu...          ethnicity\n",
              "47689  I swear to God. This dumb nigger bitch. I have...          ethnicity\n",
              "47690  Yea fuck you RT @therealexel: IF YOURE A NIGGE...          ethnicity\n",
              "47691  Bro. U gotta chill RT @CHILLShrammy: Dog FUCK ...          ethnicity\n",
              "\n",
              "[47692 rows x 2 columns]>"
            ]
          },
          "metadata": {},
          "execution_count": 135
        }
      ]
    },
    {
      "cell_type": "code",
      "source": [
        "df.isnull().any()"
      ],
      "metadata": {
        "colab": {
          "base_uri": "https://localhost:8080/"
        },
        "id": "W1khvsGwNjFC",
        "outputId": "e9fe4e56-daa3-4110-d334-2c0db1c07ee2"
      },
      "execution_count": null,
      "outputs": [
        {
          "output_type": "execute_result",
          "data": {
            "text/plain": [
              "tweet_text            False\n",
              "cyberbullying_type    False\n",
              "dtype: bool"
            ]
          },
          "metadata": {},
          "execution_count": 136
        }
      ]
    },
    {
      "cell_type": "code",
      "source": [
        "df.isnull().sum()"
      ],
      "metadata": {
        "colab": {
          "base_uri": "https://localhost:8080/"
        },
        "id": "6jdSZxTFOHjS",
        "outputId": "f60ca3d4-56f6-4832-a91c-424e9ae64d59"
      },
      "execution_count": null,
      "outputs": [
        {
          "output_type": "execute_result",
          "data": {
            "text/plain": [
              "tweet_text            0\n",
              "cyberbullying_type    0\n",
              "dtype: int64"
            ]
          },
          "metadata": {},
          "execution_count": 137
        }
      ]
    },
    {
      "cell_type": "code",
      "source": [
        "df.duplicated().sum()"
      ],
      "metadata": {
        "colab": {
          "base_uri": "https://localhost:8080/"
        },
        "id": "GymPRr3INyN6",
        "outputId": "dc6389a1-b2a2-4b0b-90b8-44cdda49f436"
      },
      "execution_count": null,
      "outputs": [
        {
          "output_type": "execute_result",
          "data": {
            "text/plain": [
              "36"
            ]
          },
          "metadata": {},
          "execution_count": 138
        }
      ]
    },
    {
      "cell_type": "code",
      "source": [
        "df.drop_duplicates()"
      ],
      "metadata": {
        "colab": {
          "base_uri": "https://localhost:8080/",
          "height": 424
        },
        "id": "LHhIeZ0hN2MK",
        "outputId": "9e3b8cfc-a710-4c33-ce09-59b3eeeef18d"
      },
      "execution_count": null,
      "outputs": [
        {
          "output_type": "execute_result",
          "data": {
            "text/plain": [
              "                                              tweet_text cyberbullying_type\n",
              "0      In other words #katandandre, your food was cra...  not_cyberbullying\n",
              "1      Why is #aussietv so white? #MKR #theblock #ImA...  not_cyberbullying\n",
              "2      @XochitlSuckkks a classy whore? Or more red ve...  not_cyberbullying\n",
              "3      @Jason_Gio meh. :P  thanks for the heads up, b...  not_cyberbullying\n",
              "4      @RudhoeEnglish This is an ISIS account pretend...  not_cyberbullying\n",
              "...                                                  ...                ...\n",
              "47687  Black ppl aren't expected to do anything, depe...          ethnicity\n",
              "47688  Turner did not withhold his disappointment. Tu...          ethnicity\n",
              "47689  I swear to God. This dumb nigger bitch. I have...          ethnicity\n",
              "47690  Yea fuck you RT @therealexel: IF YOURE A NIGGE...          ethnicity\n",
              "47691  Bro. U gotta chill RT @CHILLShrammy: Dog FUCK ...          ethnicity\n",
              "\n",
              "[47656 rows x 2 columns]"
            ],
            "text/html": [
              "\n",
              "  <div id=\"df-93f8e3b9-d83b-4df9-a8b6-d7e86c742938\">\n",
              "    <div class=\"colab-df-container\">\n",
              "      <div>\n",
              "<style scoped>\n",
              "    .dataframe tbody tr th:only-of-type {\n",
              "        vertical-align: middle;\n",
              "    }\n",
              "\n",
              "    .dataframe tbody tr th {\n",
              "        vertical-align: top;\n",
              "    }\n",
              "\n",
              "    .dataframe thead th {\n",
              "        text-align: right;\n",
              "    }\n",
              "</style>\n",
              "<table border=\"1\" class=\"dataframe\">\n",
              "  <thead>\n",
              "    <tr style=\"text-align: right;\">\n",
              "      <th></th>\n",
              "      <th>tweet_text</th>\n",
              "      <th>cyberbullying_type</th>\n",
              "    </tr>\n",
              "  </thead>\n",
              "  <tbody>\n",
              "    <tr>\n",
              "      <th>0</th>\n",
              "      <td>In other words #katandandre, your food was cra...</td>\n",
              "      <td>not_cyberbullying</td>\n",
              "    </tr>\n",
              "    <tr>\n",
              "      <th>1</th>\n",
              "      <td>Why is #aussietv so white? #MKR #theblock #ImA...</td>\n",
              "      <td>not_cyberbullying</td>\n",
              "    </tr>\n",
              "    <tr>\n",
              "      <th>2</th>\n",
              "      <td>@XochitlSuckkks a classy whore? Or more red ve...</td>\n",
              "      <td>not_cyberbullying</td>\n",
              "    </tr>\n",
              "    <tr>\n",
              "      <th>3</th>\n",
              "      <td>@Jason_Gio meh. :P  thanks for the heads up, b...</td>\n",
              "      <td>not_cyberbullying</td>\n",
              "    </tr>\n",
              "    <tr>\n",
              "      <th>4</th>\n",
              "      <td>@RudhoeEnglish This is an ISIS account pretend...</td>\n",
              "      <td>not_cyberbullying</td>\n",
              "    </tr>\n",
              "    <tr>\n",
              "      <th>...</th>\n",
              "      <td>...</td>\n",
              "      <td>...</td>\n",
              "    </tr>\n",
              "    <tr>\n",
              "      <th>47687</th>\n",
              "      <td>Black ppl aren't expected to do anything, depe...</td>\n",
              "      <td>ethnicity</td>\n",
              "    </tr>\n",
              "    <tr>\n",
              "      <th>47688</th>\n",
              "      <td>Turner did not withhold his disappointment. Tu...</td>\n",
              "      <td>ethnicity</td>\n",
              "    </tr>\n",
              "    <tr>\n",
              "      <th>47689</th>\n",
              "      <td>I swear to God. This dumb nigger bitch. I have...</td>\n",
              "      <td>ethnicity</td>\n",
              "    </tr>\n",
              "    <tr>\n",
              "      <th>47690</th>\n",
              "      <td>Yea fuck you RT @therealexel: IF YOURE A NIGGE...</td>\n",
              "      <td>ethnicity</td>\n",
              "    </tr>\n",
              "    <tr>\n",
              "      <th>47691</th>\n",
              "      <td>Bro. U gotta chill RT @CHILLShrammy: Dog FUCK ...</td>\n",
              "      <td>ethnicity</td>\n",
              "    </tr>\n",
              "  </tbody>\n",
              "</table>\n",
              "<p>47656 rows × 2 columns</p>\n",
              "</div>\n",
              "      <button class=\"colab-df-convert\" onclick=\"convertToInteractive('df-93f8e3b9-d83b-4df9-a8b6-d7e86c742938')\"\n",
              "              title=\"Convert this dataframe to an interactive table.\"\n",
              "              style=\"display:none;\">\n",
              "        \n",
              "  <svg xmlns=\"http://www.w3.org/2000/svg\" height=\"24px\"viewBox=\"0 0 24 24\"\n",
              "       width=\"24px\">\n",
              "    <path d=\"M0 0h24v24H0V0z\" fill=\"none\"/>\n",
              "    <path d=\"M18.56 5.44l.94 2.06.94-2.06 2.06-.94-2.06-.94-.94-2.06-.94 2.06-2.06.94zm-11 1L8.5 8.5l.94-2.06 2.06-.94-2.06-.94L8.5 2.5l-.94 2.06-2.06.94zm10 10l.94 2.06.94-2.06 2.06-.94-2.06-.94-.94-2.06-.94 2.06-2.06.94z\"/><path d=\"M17.41 7.96l-1.37-1.37c-.4-.4-.92-.59-1.43-.59-.52 0-1.04.2-1.43.59L10.3 9.45l-7.72 7.72c-.78.78-.78 2.05 0 2.83L4 21.41c.39.39.9.59 1.41.59.51 0 1.02-.2 1.41-.59l7.78-7.78 2.81-2.81c.8-.78.8-2.07 0-2.86zM5.41 20L4 18.59l7.72-7.72 1.47 1.35L5.41 20z\"/>\n",
              "  </svg>\n",
              "      </button>\n",
              "      \n",
              "  <style>\n",
              "    .colab-df-container {\n",
              "      display:flex;\n",
              "      flex-wrap:wrap;\n",
              "      gap: 12px;\n",
              "    }\n",
              "\n",
              "    .colab-df-convert {\n",
              "      background-color: #E8F0FE;\n",
              "      border: none;\n",
              "      border-radius: 50%;\n",
              "      cursor: pointer;\n",
              "      display: none;\n",
              "      fill: #1967D2;\n",
              "      height: 32px;\n",
              "      padding: 0 0 0 0;\n",
              "      width: 32px;\n",
              "    }\n",
              "\n",
              "    .colab-df-convert:hover {\n",
              "      background-color: #E2EBFA;\n",
              "      box-shadow: 0px 1px 2px rgba(60, 64, 67, 0.3), 0px 1px 3px 1px rgba(60, 64, 67, 0.15);\n",
              "      fill: #174EA6;\n",
              "    }\n",
              "\n",
              "    [theme=dark] .colab-df-convert {\n",
              "      background-color: #3B4455;\n",
              "      fill: #D2E3FC;\n",
              "    }\n",
              "\n",
              "    [theme=dark] .colab-df-convert:hover {\n",
              "      background-color: #434B5C;\n",
              "      box-shadow: 0px 1px 3px 1px rgba(0, 0, 0, 0.15);\n",
              "      filter: drop-shadow(0px 1px 2px rgba(0, 0, 0, 0.3));\n",
              "      fill: #FFFFFF;\n",
              "    }\n",
              "  </style>\n",
              "\n",
              "      <script>\n",
              "        const buttonEl =\n",
              "          document.querySelector('#df-93f8e3b9-d83b-4df9-a8b6-d7e86c742938 button.colab-df-convert');\n",
              "        buttonEl.style.display =\n",
              "          google.colab.kernel.accessAllowed ? 'block' : 'none';\n",
              "\n",
              "        async function convertToInteractive(key) {\n",
              "          const element = document.querySelector('#df-93f8e3b9-d83b-4df9-a8b6-d7e86c742938');\n",
              "          const dataTable =\n",
              "            await google.colab.kernel.invokeFunction('convertToInteractive',\n",
              "                                                     [key], {});\n",
              "          if (!dataTable) return;\n",
              "\n",
              "          const docLinkHtml = 'Like what you see? Visit the ' +\n",
              "            '<a target=\"_blank\" href=https://colab.research.google.com/notebooks/data_table.ipynb>data table notebook</a>'\n",
              "            + ' to learn more about interactive tables.';\n",
              "          element.innerHTML = '';\n",
              "          dataTable['output_type'] = 'display_data';\n",
              "          await google.colab.output.renderOutput(dataTable, element);\n",
              "          const docLink = document.createElement('div');\n",
              "          docLink.innerHTML = docLinkHtml;\n",
              "          element.appendChild(docLink);\n",
              "        }\n",
              "      </script>\n",
              "    </div>\n",
              "  </div>\n",
              "  "
            ]
          },
          "metadata": {},
          "execution_count": 139
        }
      ]
    },
    {
      "cell_type": "code",
      "source": [
        "import matplotlib.pyplot as plt\n",
        "import seaborn as sns\n",
        "\n",
        "plt.figure(figsize=(9,4))\n",
        "sns.countplot(df.cyberbullying_type,palette=\"pastel\")"
      ],
      "metadata": {
        "colab": {
          "base_uri": "https://localhost:8080/",
          "height": 370
        },
        "id": "vlle_NYlMvWl",
        "outputId": "935ea90a-f730-4716-e354-a5a7a4b23d71"
      },
      "execution_count": null,
      "outputs": [
        {
          "output_type": "stream",
          "name": "stderr",
          "text": [
            "/usr/local/lib/python3.7/dist-packages/seaborn/_decorators.py:43: FutureWarning:\n",
            "\n",
            "Pass the following variable as a keyword arg: x. From version 0.12, the only valid positional argument will be `data`, and passing other arguments without an explicit keyword will result in an error or misinterpretation.\n",
            "\n"
          ]
        },
        {
          "output_type": "execute_result",
          "data": {
            "text/plain": [
              "<matplotlib.axes._subplots.AxesSubplot at 0x7f44674e1cd0>"
            ]
          },
          "metadata": {},
          "execution_count": 140
        },
        {
          "output_type": "display_data",
          "data": {
            "text/plain": [
              "<Figure size 648x288 with 1 Axes>"
            ],
            "image/png": "[encoded data removed]"
          },
          "metadata": {
            "needs_background": "light"
          }
        }
      ]
    },
    {
      "cell_type": "code",
      "source": [
        "df[\"cyberbullying_type\"].value_counts()"
      ],
      "metadata": {
        "colab": {
          "base_uri": "https://localhost:8080/"
        },
        "id": "IxhKIeIQNUA8",
        "outputId": "327ae7fb-621f-4ae4-b160-59df1489682a"
      },
      "execution_count": null,
      "outputs": [
        {
          "output_type": "execute_result",
          "data": {
            "text/plain": [
              "religion               7998\n",
              "age                    7992\n",
              "gender                 7973\n",
              "ethnicity              7961\n",
              "not_cyberbullying      7945\n",
              "other_cyberbullying    7823\n",
              "Name: cyberbullying_type, dtype: int64"
            ]
          },
          "metadata": {},
          "execution_count": 141
        }
      ]
    },
    {
      "cell_type": "code",
      "source": [
        "df = df[df[\"cyberbullying_type\"]!=\"other_cyberbullying\"]"
      ],
      "metadata": {
        "id": "XQfe-zznW8N4"
      },
      "execution_count": null,
      "outputs": []
    },
    {
      "cell_type": "code",
      "source": [
        "!pip install emoji"
      ],
      "metadata": {
        "colab": {
          "base_uri": "https://localhost:8080/"
        },
        "id": "4tSs-gocQ5zR",
        "outputId": "f54153a8-492a-40ab-a5cb-ba7678f11367"
      },
      "execution_count": null,
      "outputs": [
        {
          "output_type": "stream",
          "name": "stdout",
          "text": [
            "Looking in indexes: https://pypi.org/simple, https://us-python.pkg.dev/colab-wheels/public/simple/\n",
            "Requirement already satisfied: emoji in /usr/local/lib/python3.7/dist-packages (1.7.0)\n"
          ]
        }
      ]
    },
    {
      "cell_type": "code",
      "source": [
        "import re\n",
        "import emoji\n",
        "\n",
        "def remove_emoji(text):\n",
        "    return re.sub(emoji.get_emoji_regexp(), r\"\", text)"
      ],
      "metadata": {
        "id": "54J3w_XiQU12"
      },
      "execution_count": null,
      "outputs": []
    },
    {
      "cell_type": "code",
      "source": [
        "!pip install nltk\n"
      ],
      "metadata": {
        "colab": {
          "base_uri": "https://localhost:8080/"
        },
        "id": "ovm6q2gwRXWN",
        "outputId": "28afb557-6039-4683-8418-8050441fae6d"
      },
      "execution_count": null,
      "outputs": [
        {
          "output_type": "stream",
          "name": "stdout",
          "text": [
            "Looking in indexes: https://pypi.org/simple, https://us-python.pkg.dev/colab-wheels/public/simple/\n",
            "Requirement already satisfied: nltk in /usr/local/lib/python3.7/dist-packages (3.2.5)\n",
            "Requirement already satisfied: six in /usr/local/lib/python3.7/dist-packages (from nltk) (1.15.0)\n"
          ]
        }
      ]
    },
    {
      "cell_type": "code",
      "source": [
        "import nltk\n",
        "nltk.download(\"stopwords\")"
      ],
      "metadata": {
        "colab": {
          "base_uri": "https://localhost:8080/"
        },
        "id": "BxmAIxe7D8FY",
        "outputId": "4c787839-257f-4774-b38e-d5589d3a15c5"
      },
      "execution_count": null,
      "outputs": [
        {
          "output_type": "stream",
          "name": "stdout",
          "text": [
            "[nltk_data] Downloading package stopwords to /root/nltk_data...\n",
            "[nltk_data]   Package stopwords is already up-to-date!\n"
          ]
        },
        {
          "output_type": "execute_result",
          "data": {
            "text/plain": [
              "True"
            ]
          },
          "metadata": {},
          "execution_count": 148
        }
      ]
    },
    {
      "cell_type": "code",
      "source": [
        "nltk.download('punkt')"
      ],
      "metadata": {
        "colab": {
          "base_uri": "https://localhost:8080/"
        },
        "id": "PzYcSHMvD4jV",
        "outputId": "845c52e8-5d5f-404c-b079-32546b469952"
      },
      "execution_count": null,
      "outputs": [
        {
          "output_type": "stream",
          "name": "stdout",
          "text": [
            "[nltk_data] Downloading package punkt to /root/nltk_data...\n",
            "[nltk_data]   Package punkt is already up-to-date!\n"
          ]
        },
        {
          "output_type": "execute_result",
          "data": {
            "text/plain": [
              "True"
            ]
          },
          "metadata": {},
          "execution_count": 149
        }
      ]
    },
    {
      "cell_type": "code",
      "source": [
        "import string\n",
        "from nltk.corpus import stopwords\n",
        "stop_words = set(stopwords.words('english'))"
      ],
      "metadata": {
        "id": "7iiTj9r9RyNo"
      },
      "execution_count": null,
      "outputs": []
    },
    {
      "cell_type": "code",
      "source": [
        "def text_cleaning (text):\n",
        "    text = text.replace('\\r', '').replace('\\n', ' ').lower() \n",
        "    text = re.sub(r\"(?:\\@|https?\\://)\\S+\", \"\", text) \n",
        "    text = re.sub(r'[^\\x00-\\x7f]',r'', text) \n",
        "    banned_list= string.punctuation\n",
        "    table = str.maketrans('', '', banned_list)\n",
        "    text = text.translate(table)\n",
        "    text = [word for word in text.split() if word not in stop_words]\n",
        "    text = ' '.join(text)\n",
        "    text =' '.join(word for word in text.split() if len(word) < 14)\n",
        "    return text"
      ],
      "metadata": {
        "id": "sN1--KV6REkq"
      },
      "execution_count": null,
      "outputs": []
    },
    {
      "cell_type": "code",
      "source": [
        "def decontract(text):\n",
        "    text = re.sub(r\"\\'ll\", \" will\", text)\n",
        "    text = re.sub(r\"\\'t\", \" not\", text)\n",
        "    text = re.sub(r\"\\'ve\", \" have\", text)\n",
        "    text = re.sub(r\"\\'m\", \" am\", text)\n",
        "    text = re.sub(r\"can\\'t\", \"can not\", text)\n",
        "    text = re.sub(r\"n\\'t\", \" not\", text)\n",
        "    text = re.sub(r\"\\'re\", \" are\", text)\n",
        "    text = re.sub(r\"\\'s\", \" is\", text)\n",
        "    text = re.sub(r\"\\'d\", \" would\", text)\n",
        "    return text"
      ],
      "metadata": {
        "id": "fUVfSZAKScZq"
      },
      "execution_count": null,
      "outputs": []
    },
    {
      "cell_type": "code",
      "source": [
        "def remove_hashtags(tweet):\n",
        "    new_tweet = \" \".join(word.strip() for word in re.split('#(?!(?:hashtag)\\b)[\\w-]+(?=(?:\\s+#[\\w-]+)*\\s*$)', tweet))\n",
        "    new_tweet2 = \" \".join(word.strip() for word in re.split('#|_', new_tweet))\n",
        "    return new_tweet2"
      ],
      "metadata": {
        "id": "45p7VMVYSp0b"
      },
      "execution_count": null,
      "outputs": []
    },
    {
      "cell_type": "code",
      "source": [
        "def filter_chars(text):\n",
        "    sent = []\n",
        "    for word in text.split(' '):\n",
        "        if ('$' in word) | ('&' in word):\n",
        "            sent.append('')\n",
        "        else:\n",
        "            sent.append(word)\n",
        "    return ' '.join(sent)"
      ],
      "metadata": {
        "id": "eUAdomGGSuoS"
      },
      "execution_count": null,
      "outputs": []
    },
    {
      "cell_type": "code",
      "source": [
        "from nltk.stem import WordNetLemmatizer,PorterStemmer\n",
        "\n",
        "def stemming(text):\n",
        "    tokenized = nltk.word_tokenize(text)\n",
        "    ps = PorterStemmer()\n",
        "    return ' '.join([ps.stem(words) for words in tokenized])"
      ],
      "metadata": {
        "id": "ky1TYiuPSzfg"
      },
      "execution_count": null,
      "outputs": []
    },
    {
      "cell_type": "code",
      "source": [
        "def remove_mult_spaces(text):\n",
        "    return re.sub(\"\\s\\s+\" , \" \", text)"
      ],
      "metadata": {
        "id": "DYiOwC3jTjHp"
      },
      "execution_count": null,
      "outputs": []
    },
    {
      "cell_type": "code",
      "source": [
        "def deep_clean(text):\n",
        "    text = remove_emoji(text)\n",
        "    text = text_cleaning(text)\n",
        "    text = decontract(text)\n",
        "    text = remove_hashtags(text)\n",
        "    text = filter_chars(text)\n",
        "    text = stemming(text)\n",
        "    text = remove_mult_spaces(text)\n",
        "    \n",
        "    return text"
      ],
      "metadata": {
        "id": "CJYO-9awS634"
      },
      "execution_count": null,
      "outputs": []
    },
    {
      "cell_type": "code",
      "source": [
        "clean_tweet_text = []\n",
        "for t in df.tweet_text:\n",
        "    clean_tweet_text.append(deep_clean(t))"
      ],
      "metadata": {
        "colab": {
          "base_uri": "https://localhost:8080/"
        },
        "id": "fFjIPVtHTBDn",
        "outputId": "310bf24a-f559-4877-aba0-64e61f590d8c"
      },
      "execution_count": null,
      "outputs": [
        {
          "output_type": "stream",
          "name": "stderr",
          "text": [
            "/usr/local/lib/python3.7/dist-packages/ipykernel_launcher.py:5: DeprecationWarning:\n",
            "\n",
            "'emoji.get_emoji_regexp()' is deprecated and will be removed in version 2.0.0. If you want to remove emoji from a string, consider the method emoji.replace_emoji(str, replace='').\n",
            "To hide this warning, pin/downgrade the package to 'emoji~=1.6.3'\n",
            "\n"
          ]
        }
      ]
    },
    {
      "cell_type": "code",
      "source": [
        "df['new_tweet_text'] = clean_tweet_text"
      ],
      "metadata": {
        "colab": {
          "base_uri": "https://localhost:8080/"
        },
        "id": "mZRVGngYUahV",
        "outputId": "9fab0b33-ae83-4fb2-d958-d8cb842f60f5"
      },
      "execution_count": null,
      "outputs": [
        {
          "output_type": "stream",
          "name": "stderr",
          "text": [
            "/usr/local/lib/python3.7/dist-packages/ipykernel_launcher.py:1: SettingWithCopyWarning:\n",
            "\n",
            "\n",
            "A value is trying to be set on a copy of a slice from a DataFrame.\n",
            "Try using .loc[row_indexer,col_indexer] = value instead\n",
            "\n",
            "See the caveats in the documentation: https://pandas.pydata.org/pandas-docs/stable/user_guide/indexing.html#returning-a-view-versus-a-copy\n",
            "\n"
          ]
        }
      ]
    },
    {
      "cell_type": "code",
      "source": [
        "df.head(10)"
      ],
      "metadata": {
        "colab": {
          "base_uri": "https://localhost:8080/",
          "height": 363
        },
        "id": "KmbUppU7Uczv",
        "outputId": "98378bd6-a92f-421b-e769-b596a5170c97"
      },
      "execution_count": null,
      "outputs": [
        {
          "output_type": "execute_result",
          "data": {
            "text/plain": [
              "                                          tweet_text cyberbullying_type  \\\n",
              "0  In other words #katandandre, your food was cra...  not_cyberbullying   \n",
              "1  Why is #aussietv so white? #MKR #theblock #ImA...  not_cyberbullying   \n",
              "2  @XochitlSuckkks a classy whore? Or more red ve...  not_cyberbullying   \n",
              "3  @Jason_Gio meh. :P  thanks for the heads up, b...  not_cyberbullying   \n",
              "4  @RudhoeEnglish This is an ISIS account pretend...  not_cyberbullying   \n",
              "5  @Raja5aab @Quickieleaks Yes, the test of god i...  not_cyberbullying   \n",
              "6  Itu sekolah ya bukan tempat bully! Ga jauh kay...  not_cyberbullying   \n",
              "7  Karma. I hope it bites Kat on the butt. She is...  not_cyberbullying   \n",
              "8       @stockputout everything but mostly my priest  not_cyberbullying   \n",
              "9  Rebecca Black Drops Out of School Due to Bully...  not_cyberbullying   \n",
              "\n",
              "                                      new_tweet_text  \n",
              "0                 word katandandr food crapilici mkr  \n",
              "1  aussietv white mkr theblock today sunris studi...  \n",
              "2                     classi whore red velvet cupcak  \n",
              "3  meh p thank head concern anoth angri dude twitter  \n",
              "4  isi account pretend kurdish account like islam...  \n",
              "5  ye test god good bad indiffer weird whatev pro...  \n",
              "6  itu sekolah ya bukan tempat bulli ga jauh kaya...  \n",
              "7                 karma hope bite kat butt nasti mkr  \n",
              "8                              everyth mostli priest  \n",
              "9                rebecca black drop school due bulli  "
            ],
            "text/html": [
              "\n",
              "  <div id=\"df-f48e843a-0f4f-42e0-bcf5-2be8a91963e1\">\n",
              "    <div class=\"colab-df-container\">\n",
              "      <div>\n",
              "<style scoped>\n",
              "    .dataframe tbody tr th:only-of-type {\n",
              "        vertical-align: middle;\n",
              "    }\n",
              "\n",
              "    .dataframe tbody tr th {\n",
              "        vertical-align: top;\n",
              "    }\n",
              "\n",
              "    .dataframe thead th {\n",
              "        text-align: right;\n",
              "    }\n",
              "</style>\n",
              "<table border=\"1\" class=\"dataframe\">\n",
              "  <thead>\n",
              "    <tr style=\"text-align: right;\">\n",
              "      <th></th>\n",
              "      <th>tweet_text</th>\n",
              "      <th>cyberbullying_type</th>\n",
              "      <th>new_tweet_text</th>\n",
              "    </tr>\n",
              "  </thead>\n",
              "  <tbody>\n",
              "    <tr>\n",
              "      <th>0</th>\n",
              "      <td>In other words #katandandre, your food was cra...</td>\n",
              "      <td>not_cyberbullying</td>\n",
              "      <td>word katandandr food crapilici mkr</td>\n",
              "    </tr>\n",
              "    <tr>\n",
              "      <th>1</th>\n",
              "      <td>Why is #aussietv so white? #MKR #theblock #ImA...</td>\n",
              "      <td>not_cyberbullying</td>\n",
              "      <td>aussietv white mkr theblock today sunris studi...</td>\n",
              "    </tr>\n",
              "    <tr>\n",
              "      <th>2</th>\n",
              "      <td>@XochitlSuckkks a classy whore? Or more red ve...</td>\n",
              "      <td>not_cyberbullying</td>\n",
              "      <td>classi whore red velvet cupcak</td>\n",
              "    </tr>\n",
              "    <tr>\n",
              "      <th>3</th>\n",
              "      <td>@Jason_Gio meh. :P  thanks for the heads up, b...</td>\n",
              "      <td>not_cyberbullying</td>\n",
              "      <td>meh p thank head concern anoth angri dude twitter</td>\n",
              "    </tr>\n",
              "    <tr>\n",
              "      <th>4</th>\n",
              "      <td>@RudhoeEnglish This is an ISIS account pretend...</td>\n",
              "      <td>not_cyberbullying</td>\n",
              "      <td>isi account pretend kurdish account like islam...</td>\n",
              "    </tr>\n",
              "    <tr>\n",
              "      <th>5</th>\n",
              "      <td>@Raja5aab @Quickieleaks Yes, the test of god i...</td>\n",
              "      <td>not_cyberbullying</td>\n",
              "      <td>ye test god good bad indiffer weird whatev pro...</td>\n",
              "    </tr>\n",
              "    <tr>\n",
              "      <th>6</th>\n",
              "      <td>Itu sekolah ya bukan tempat bully! Ga jauh kay...</td>\n",
              "      <td>not_cyberbullying</td>\n",
              "      <td>itu sekolah ya bukan tempat bulli ga jauh kaya...</td>\n",
              "    </tr>\n",
              "    <tr>\n",
              "      <th>7</th>\n",
              "      <td>Karma. I hope it bites Kat on the butt. She is...</td>\n",
              "      <td>not_cyberbullying</td>\n",
              "      <td>karma hope bite kat butt nasti mkr</td>\n",
              "    </tr>\n",
              "    <tr>\n",
              "      <th>8</th>\n",
              "      <td>@stockputout everything but mostly my priest</td>\n",
              "      <td>not_cyberbullying</td>\n",
              "      <td>everyth mostli priest</td>\n",
              "    </tr>\n",
              "    <tr>\n",
              "      <th>9</th>\n",
              "      <td>Rebecca Black Drops Out of School Due to Bully...</td>\n",
              "      <td>not_cyberbullying</td>\n",
              "      <td>rebecca black drop school due bulli</td>\n",
              "    </tr>\n",
              "  </tbody>\n",
              "</table>\n",
              "</div>\n",
              "      <button class=\"colab-df-convert\" onclick=\"convertToInteractive('df-f48e843a-0f4f-42e0-bcf5-2be8a91963e1')\"\n",
              "              title=\"Convert this dataframe to an interactive table.\"\n",
              "              style=\"display:none;\">\n",
              "        \n",
              "  <svg xmlns=\"http://www.w3.org/2000/svg\" height=\"24px\"viewBox=\"0 0 24 24\"\n",
              "       width=\"24px\">\n",
              "    <path d=\"M0 0h24v24H0V0z\" fill=\"none\"/>\n",
              "    <path d=\"M18.56 5.44l.94 2.06.94-2.06 2.06-.94-2.06-.94-.94-2.06-.94 2.06-2.06.94zm-11 1L8.5 8.5l.94-2.06 2.06-.94-2.06-.94L8.5 2.5l-.94 2.06-2.06.94zm10 10l.94 2.06.94-2.06 2.06-.94-2.06-.94-.94-2.06-.94 2.06-2.06.94z\"/><path d=\"M17.41 7.96l-1.37-1.37c-.4-.4-.92-.59-1.43-.59-.52 0-1.04.2-1.43.59L10.3 9.45l-7.72 7.72c-.78.78-.78 2.05 0 2.83L4 21.41c.39.39.9.59 1.41.59.51 0 1.02-.2 1.41-.59l7.78-7.78 2.81-2.81c.8-.78.8-2.07 0-2.86zM5.41 20L4 18.59l7.72-7.72 1.47 1.35L5.41 20z\"/>\n",
              "  </svg>\n",
              "      </button>\n",
              "      \n",
              "  <style>\n",
              "    .colab-df-container {\n",
              "      display:flex;\n",
              "      flex-wrap:wrap;\n",
              "      gap: 12px;\n",
              "    }\n",
              "\n",
              "    .colab-df-convert {\n",
              "      background-color: #E8F0FE;\n",
              "      border: none;\n",
              "      border-radius: 50%;\n",
              "      cursor: pointer;\n",
              "      display: none;\n",
              "      fill: #1967D2;\n",
              "      height: 32px;\n",
              "      padding: 0 0 0 0;\n",
              "      width: 32px;\n",
              "    }\n",
              "\n",
              "    .colab-df-convert:hover {\n",
              "      background-color: #E2EBFA;\n",
              "      box-shadow: 0px 1px 2px rgba(60, 64, 67, 0.3), 0px 1px 3px 1px rgba(60, 64, 67, 0.15);\n",
              "      fill: #174EA6;\n",
              "    }\n",
              "\n",
              "    [theme=dark] .colab-df-convert {\n",
              "      background-color: #3B4455;\n",
              "      fill: #D2E3FC;\n",
              "    }\n",
              "\n",
              "    [theme=dark] .colab-df-convert:hover {\n",
              "      background-color: #434B5C;\n",
              "      box-shadow: 0px 1px 3px 1px rgba(0, 0, 0, 0.15);\n",
              "      filter: drop-shadow(0px 1px 2px rgba(0, 0, 0, 0.3));\n",
              "      fill: #FFFFFF;\n",
              "    }\n",
              "  </style>\n",
              "\n",
              "      <script>\n",
              "        const buttonEl =\n",
              "          document.querySelector('#df-f48e843a-0f4f-42e0-bcf5-2be8a91963e1 button.colab-df-convert');\n",
              "        buttonEl.style.display =\n",
              "          google.colab.kernel.accessAllowed ? 'block' : 'none';\n",
              "\n",
              "        async function convertToInteractive(key) {\n",
              "          const element = document.querySelector('#df-f48e843a-0f4f-42e0-bcf5-2be8a91963e1');\n",
              "          const dataTable =\n",
              "            await google.colab.kernel.invokeFunction('convertToInteractive',\n",
              "                                                     [key], {});\n",
              "          if (!dataTable) return;\n",
              "\n",
              "          const docLinkHtml = 'Like what you see? Visit the ' +\n",
              "            '<a target=\"_blank\" href=https://colab.research.google.com/notebooks/data_table.ipynb>data table notebook</a>'\n",
              "            + ' to learn more about interactive tables.';\n",
              "          element.innerHTML = '';\n",
              "          dataTable['output_type'] = 'display_data';\n",
              "          await google.colab.output.renderOutput(dataTable, element);\n",
              "          const docLink = document.createElement('div');\n",
              "          docLink.innerHTML = docLinkHtml;\n",
              "          element.appendChild(docLink);\n",
              "        }\n",
              "      </script>\n",
              "    </div>\n",
              "  </div>\n",
              "  "
            ]
          },
          "metadata": {},
          "execution_count": 160
        }
      ]
    },
    {
      "cell_type": "code",
      "source": [
        "df[\"new_tweet_text\"].duplicated().sum()"
      ],
      "metadata": {
        "colab": {
          "base_uri": "https://localhost:8080/"
        },
        "id": "9deXK7QBUkz3",
        "outputId": "646ad8da-3dbc-49d4-ca55-6e684024dfb9"
      },
      "execution_count": null,
      "outputs": [
        {
          "output_type": "execute_result",
          "data": {
            "text/plain": [
              "1030"
            ]
          },
          "metadata": {},
          "execution_count": 161
        }
      ]
    },
    {
      "cell_type": "code",
      "source": [
        "df.drop_duplicates(\"new_tweet_text\", inplace=True)"
      ],
      "metadata": {
        "colab": {
          "base_uri": "https://localhost:8080/"
        },
        "id": "JOcYXD5gUt3Y",
        "outputId": "f26eb3a4-e7e0-46fb-e87a-76e8b277a084"
      },
      "execution_count": null,
      "outputs": [
        {
          "output_type": "stream",
          "name": "stderr",
          "text": [
            "/usr/local/lib/python3.7/dist-packages/pandas/util/_decorators.py:311: SettingWithCopyWarning:\n",
            "\n",
            "\n",
            "A value is trying to be set on a copy of a slice from a DataFrame\n",
            "\n",
            "See the caveats in the documentation: https://pandas.pydata.org/pandas-docs/stable/user_guide/indexing.html#returning-a-view-versus-a-copy\n",
            "\n"
          ]
        }
      ]
    },
    {
      "cell_type": "code",
      "source": [
        "df.shape"
      ],
      "metadata": {
        "colab": {
          "base_uri": "https://localhost:8080/"
        },
        "id": "W4bEsVAiUxRn",
        "outputId": "7bed9b88-0395-44ba-e36e-77c1086e5b03"
      },
      "execution_count": null,
      "outputs": [
        {
          "output_type": "execute_result",
          "data": {
            "text/plain": [
              "(38839, 3)"
            ]
          },
          "metadata": {},
          "execution_count": 163
        }
      ]
    },
    {
      "cell_type": "code",
      "source": [
        "from collections import Counter\n",
        "\n",
        "df['tweet_list'] = df['new_tweet_text'].apply(lambda x:str(x).split())\n",
        "top = Counter([item for sublist in df['tweet_list'] for item in sublist])\n",
        "tweet_list01 = pd.DataFrame(top.most_common(50))\n",
        "tweet_list01.columns = ['Words', 'Count']\n",
        "tweet_list01.style.background_gradient(cmap = 'Accent_r')"
      ],
      "metadata": {
        "colab": {
          "base_uri": "https://localhost:8080/",
          "height": 1000
        },
        "id": "MlsGFQmeVOy4",
        "outputId": "6d59ab89-1247-4c2e-8560-a2e1a5ac8d80"
      },
      "execution_count": null,
      "outputs": [
        {
          "output_type": "stream",
          "name": "stderr",
          "text": [
            "/usr/local/lib/python3.7/dist-packages/ipykernel_launcher.py:3: SettingWithCopyWarning:\n",
            "\n",
            "\n",
            "A value is trying to be set on a copy of a slice from a DataFrame.\n",
            "Try using .loc[row_indexer,col_indexer] = value instead\n",
            "\n",
            "See the caveats in the documentation: https://pandas.pydata.org/pandas-docs/stable/user_guide/indexing.html#returning-a-view-versus-a-copy\n",
            "\n"
          ]
        },
        {
          "output_type": "execute_result",
          "data": {
            "text/plain": [
              "<pandas.io.formats.style.Styler at 0x7f445cb74e50>"
            ],
            "text/html": [
              "<style type=\"text/css\">\n",
              "#T_da2b6_row0_col1, #T_da2b6_row1_col1 {\n",
              "  background-color: #7fc97f;\n",
              "  color: #000000;\n",
              "}\n",
              "#T_da2b6_row2_col1 {\n",
              "  background-color: #fdc086;\n",
              "  color: #000000;\n",
              "}\n",
              "#T_da2b6_row3_col1 {\n",
              "  background-color: #ffff99;\n",
              "  color: #000000;\n",
              "}\n",
              "#T_da2b6_row4_col1, #T_da2b6_row5_col1, #T_da2b6_row6_col1, #T_da2b6_row7_col1, #T_da2b6_row8_col1, #T_da2b6_row9_col1 {\n",
              "  background-color: #386cb0;\n",
              "  color: #f1f1f1;\n",
              "}\n",
              "#T_da2b6_row10_col1, #T_da2b6_row11_col1, #T_da2b6_row12_col1, #T_da2b6_row13_col1, #T_da2b6_row14_col1, #T_da2b6_row15_col1, #T_da2b6_row16_col1 {\n",
              "  background-color: #f0027f;\n",
              "  color: #f1f1f1;\n",
              "}\n",
              "#T_da2b6_row17_col1, #T_da2b6_row18_col1, #T_da2b6_row19_col1, #T_da2b6_row20_col1, #T_da2b6_row21_col1, #T_da2b6_row22_col1, #T_da2b6_row23_col1, #T_da2b6_row24_col1, #T_da2b6_row25_col1 {\n",
              "  background-color: #bf5b17;\n",
              "  color: #f1f1f1;\n",
              "}\n",
              "#T_da2b6_row26_col1, #T_da2b6_row27_col1, #T_da2b6_row28_col1, #T_da2b6_row29_col1, #T_da2b6_row30_col1, #T_da2b6_row31_col1, #T_da2b6_row32_col1, #T_da2b6_row33_col1, #T_da2b6_row34_col1, #T_da2b6_row35_col1, #T_da2b6_row36_col1, #T_da2b6_row37_col1, #T_da2b6_row38_col1, #T_da2b6_row39_col1, #T_da2b6_row40_col1, #T_da2b6_row41_col1, #T_da2b6_row42_col1, #T_da2b6_row43_col1, #T_da2b6_row44_col1, #T_da2b6_row45_col1, #T_da2b6_row46_col1, #T_da2b6_row47_col1, #T_da2b6_row48_col1, #T_da2b6_row49_col1 {\n",
              "  background-color: #666666;\n",
              "  color: #f1f1f1;\n",
              "}\n",
              "</style>\n",
              "<table id=\"T_da2b6_\" class=\"dataframe\">\n",
              "  <thead>\n",
              "    <tr>\n",
              "      <th class=\"blank level0\" >&nbsp;</th>\n",
              "      <th class=\"col_heading level0 col0\" >Words</th>\n",
              "      <th class=\"col_heading level0 col1\" >Count</th>\n",
              "    </tr>\n",
              "  </thead>\n",
              "  <tbody>\n",
              "    <tr>\n",
              "      <th id=\"T_da2b6_level0_row0\" class=\"row_heading level0 row0\" >0</th>\n",
              "      <td id=\"T_da2b6_row0_col0\" class=\"data row0 col0\" >bulli</td>\n",
              "      <td id=\"T_da2b6_row0_col1\" class=\"data row0 col1\" >10097</td>\n",
              "    </tr>\n",
              "    <tr>\n",
              "      <th id=\"T_da2b6_level0_row1\" class=\"row_heading level0 row1\" >1</th>\n",
              "      <td id=\"T_da2b6_row1_col0\" class=\"data row1 col0\" >school</td>\n",
              "      <td id=\"T_da2b6_row1_col1\" class=\"data row1 col1\" >9020</td>\n",
              "    </tr>\n",
              "    <tr>\n",
              "      <th id=\"T_da2b6_level0_row2\" class=\"row_heading level0 row2\" >2</th>\n",
              "      <td id=\"T_da2b6_row2_col0\" class=\"data row2 col0\" >fuck</td>\n",
              "      <td id=\"T_da2b6_row2_col1\" class=\"data row2 col1\" >7162</td>\n",
              "    </tr>\n",
              "    <tr>\n",
              "      <th id=\"T_da2b6_level0_row3\" class=\"row_heading level0 row3\" >3</th>\n",
              "      <td id=\"T_da2b6_row3_col0\" class=\"data row3 col0\" >like</td>\n",
              "      <td id=\"T_da2b6_row3_col1\" class=\"data row3 col1\" >5789</td>\n",
              "    </tr>\n",
              "    <tr>\n",
              "      <th id=\"T_da2b6_level0_row4\" class=\"row_heading level0 row4\" >4</th>\n",
              "      <td id=\"T_da2b6_row4_col0\" class=\"data row4 col0\" >nigger</td>\n",
              "      <td id=\"T_da2b6_row4_col1\" class=\"data row4 col1\" >5436</td>\n",
              "    </tr>\n",
              "    <tr>\n",
              "      <th id=\"T_da2b6_level0_row5\" class=\"row_heading level0 row5\" >5</th>\n",
              "      <td id=\"T_da2b6_row5_col0\" class=\"data row5 col0\" >girl</td>\n",
              "      <td id=\"T_da2b6_row5_col1\" class=\"data row5 col1\" >5426</td>\n",
              "    </tr>\n",
              "    <tr>\n",
              "      <th id=\"T_da2b6_level0_row6\" class=\"row_heading level0 row6\" >6</th>\n",
              "      <td id=\"T_da2b6_row6_col0\" class=\"data row6 col0\" >joke</td>\n",
              "      <td id=\"T_da2b6_row6_col1\" class=\"data row6 col1\" >5362</td>\n",
              "    </tr>\n",
              "    <tr>\n",
              "      <th id=\"T_da2b6_level0_row7\" class=\"row_heading level0 row7\" >7</th>\n",
              "      <td id=\"T_da2b6_row7_col0\" class=\"data row7 col0\" >dumb</td>\n",
              "      <td id=\"T_da2b6_row7_col1\" class=\"data row7 col1\" >5139</td>\n",
              "    </tr>\n",
              "    <tr>\n",
              "      <th id=\"T_da2b6_level0_row8\" class=\"row_heading level0 row8\" >8</th>\n",
              "      <td id=\"T_da2b6_row8_col0\" class=\"data row8 col0\" >high</td>\n",
              "      <td id=\"T_da2b6_row8_col1\" class=\"data row8 col1\" >5002</td>\n",
              "    </tr>\n",
              "    <tr>\n",
              "      <th id=\"T_da2b6_level0_row9\" class=\"row_heading level0 row9\" >9</th>\n",
              "      <td id=\"T_da2b6_row9_col0\" class=\"data row9 col0\" >muslim</td>\n",
              "      <td id=\"T_da2b6_row9_col1\" class=\"data row9 col1\" >4741</td>\n",
              "    </tr>\n",
              "    <tr>\n",
              "      <th id=\"T_da2b6_level0_row10\" class=\"row_heading level0 row10\" >10</th>\n",
              "      <td id=\"T_da2b6_row10_col0\" class=\"data row10 col0\" >peopl</td>\n",
              "      <td id=\"T_da2b6_row10_col1\" class=\"data row10 col1\" >4450</td>\n",
              "    </tr>\n",
              "    <tr>\n",
              "      <th id=\"T_da2b6_level0_row11\" class=\"row_heading level0 row11\" >11</th>\n",
              "      <td id=\"T_da2b6_row11_col0\" class=\"data row11 col0\" >rape</td>\n",
              "      <td id=\"T_da2b6_row11_col1\" class=\"data row11 col1\" >4316</td>\n",
              "    </tr>\n",
              "    <tr>\n",
              "      <th id=\"T_da2b6_level0_row12\" class=\"row_heading level0 row12\" >12</th>\n",
              "      <td id=\"T_da2b6_row12_col0\" class=\"data row12 col0\" >gay</td>\n",
              "      <td id=\"T_da2b6_row12_col1\" class=\"data row12 col1\" >4197</td>\n",
              "    </tr>\n",
              "    <tr>\n",
              "      <th id=\"T_da2b6_level0_row13\" class=\"row_heading level0 row13\" >13</th>\n",
              "      <td id=\"T_da2b6_row13_col0\" class=\"data row13 col0\" >dont</td>\n",
              "      <td id=\"T_da2b6_row13_col1\" class=\"data row13 col1\" >3912</td>\n",
              "    </tr>\n",
              "    <tr>\n",
              "      <th id=\"T_da2b6_level0_row14\" class=\"row_heading level0 row14\" >14</th>\n",
              "      <td id=\"T_da2b6_row14_col0\" class=\"data row14 col0\" >u</td>\n",
              "      <td id=\"T_da2b6_row14_col1\" class=\"data row14 col1\" >3896</td>\n",
              "    </tr>\n",
              "    <tr>\n",
              "      <th id=\"T_da2b6_level0_row15\" class=\"row_heading level0 row15\" >15</th>\n",
              "      <td id=\"T_da2b6_row15_col0\" class=\"data row15 col0\" >call</td>\n",
              "      <td id=\"T_da2b6_row15_col1\" class=\"data row15 col1\" >3769</td>\n",
              "    </tr>\n",
              "    <tr>\n",
              "      <th id=\"T_da2b6_level0_row16\" class=\"row_heading level0 row16\" >16</th>\n",
              "      <td id=\"T_da2b6_row16_col0\" class=\"data row16 col0\" >im</td>\n",
              "      <td id=\"T_da2b6_row16_col1\" class=\"data row16 col1\" >3719</td>\n",
              "    </tr>\n",
              "    <tr>\n",
              "      <th id=\"T_da2b6_level0_row17\" class=\"row_heading level0 row17\" >17</th>\n",
              "      <td id=\"T_da2b6_row17_col0\" class=\"data row17 col0\" >one</td>\n",
              "      <td id=\"T_da2b6_row17_col1\" class=\"data row17 col1\" >3462</td>\n",
              "    </tr>\n",
              "    <tr>\n",
              "      <th id=\"T_da2b6_level0_row18\" class=\"row_heading level0 row18\" >18</th>\n",
              "      <td id=\"T_da2b6_row18_col0\" class=\"data row18 col0\" >rt</td>\n",
              "      <td id=\"T_da2b6_row18_col1\" class=\"data row18 col1\" >3349</td>\n",
              "    </tr>\n",
              "    <tr>\n",
              "      <th id=\"T_da2b6_level0_row19\" class=\"row_heading level0 row19\" >19</th>\n",
              "      <td id=\"T_da2b6_row19_col0\" class=\"data row19 col0\" >get</td>\n",
              "      <td id=\"T_da2b6_row19_col1\" class=\"data row19 col1\" >3288</td>\n",
              "    </tr>\n",
              "    <tr>\n",
              "      <th id=\"T_da2b6_level0_row20\" class=\"row_heading level0 row20\" >20</th>\n",
              "      <td id=\"T_da2b6_row20_col0\" class=\"data row20 col0\" >idiot</td>\n",
              "      <td id=\"T_da2b6_row20_col1\" class=\"data row20 col1\" >3213</td>\n",
              "    </tr>\n",
              "    <tr>\n",
              "      <th id=\"T_da2b6_level0_row21\" class=\"row_heading level0 row21\" >21</th>\n",
              "      <td id=\"T_da2b6_row21_col0\" class=\"data row21 col0\" >say</td>\n",
              "      <td id=\"T_da2b6_row21_col1\" class=\"data row21 col1\" >2861</td>\n",
              "    </tr>\n",
              "    <tr>\n",
              "      <th id=\"T_da2b6_level0_row22\" class=\"row_heading level0 row22\" >22</th>\n",
              "      <td id=\"T_da2b6_row22_col0\" class=\"data row22 col0\" >black</td>\n",
              "      <td id=\"T_da2b6_row22_col1\" class=\"data row22 col1\" >2828</td>\n",
              "    </tr>\n",
              "    <tr>\n",
              "      <th id=\"T_da2b6_level0_row23\" class=\"row_heading level0 row23\" >23</th>\n",
              "      <td id=\"T_da2b6_row23_col0\" class=\"data row23 col0\" >make</td>\n",
              "      <td id=\"T_da2b6_row23_col1\" class=\"data row23 col1\" >2683</td>\n",
              "    </tr>\n",
              "    <tr>\n",
              "      <th id=\"T_da2b6_level0_row24\" class=\"row_heading level0 row24\" >24</th>\n",
              "      <td id=\"T_da2b6_row24_col0\" class=\"data row24 col0\" >ass</td>\n",
              "      <td id=\"T_da2b6_row24_col1\" class=\"data row24 col1\" >2606</td>\n",
              "    </tr>\n",
              "    <tr>\n",
              "      <th id=\"T_da2b6_level0_row25\" class=\"row_heading level0 row25\" >25</th>\n",
              "      <td id=\"T_da2b6_row25_col0\" class=\"data row25 col0\" >islam</td>\n",
              "      <td id=\"T_da2b6_row25_col1\" class=\"data row25 col1\" >2566</td>\n",
              "    </tr>\n",
              "    <tr>\n",
              "      <th id=\"T_da2b6_level0_row26\" class=\"row_heading level0 row26\" >26</th>\n",
              "      <td id=\"T_da2b6_row26_col0\" class=\"data row26 col0\" >bitch</td>\n",
              "      <td id=\"T_da2b6_row26_col1\" class=\"data row26 col1\" >2407</td>\n",
              "    </tr>\n",
              "    <tr>\n",
              "      <th id=\"T_da2b6_level0_row27\" class=\"row_heading level0 row27\" >27</th>\n",
              "      <td id=\"T_da2b6_row27_col0\" class=\"data row27 col0\" >amp</td>\n",
              "      <td id=\"T_da2b6_row27_col1\" class=\"data row27 col1\" >2404</td>\n",
              "    </tr>\n",
              "    <tr>\n",
              "      <th id=\"T_da2b6_level0_row28\" class=\"row_heading level0 row28\" >28</th>\n",
              "      <td id=\"T_da2b6_row28_col0\" class=\"data row28 col0\" >go</td>\n",
              "      <td id=\"T_da2b6_row28_col1\" class=\"data row28 col1\" >2298</td>\n",
              "    </tr>\n",
              "    <tr>\n",
              "      <th id=\"T_da2b6_level0_row29\" class=\"row_heading level0 row29\" >29</th>\n",
              "      <td id=\"T_da2b6_row29_col0\" class=\"data row29 col0\" >know</td>\n",
              "      <td id=\"T_da2b6_row29_col1\" class=\"data row29 col1\" >2281</td>\n",
              "    </tr>\n",
              "    <tr>\n",
              "      <th id=\"T_da2b6_level0_row30\" class=\"row_heading level0 row30\" >30</th>\n",
              "      <td id=\"T_da2b6_row30_col0\" class=\"data row30 col0\" >think</td>\n",
              "      <td id=\"T_da2b6_row30_col1\" class=\"data row30 col1\" >2248</td>\n",
              "    </tr>\n",
              "    <tr>\n",
              "      <th id=\"T_da2b6_level0_row31\" class=\"row_heading level0 row31\" >31</th>\n",
              "      <td id=\"T_da2b6_row31_col0\" class=\"data row31 col0\" >white</td>\n",
              "      <td id=\"T_da2b6_row31_col1\" class=\"data row31 col1\" >2228</td>\n",
              "    </tr>\n",
              "    <tr>\n",
              "      <th id=\"T_da2b6_level0_row32\" class=\"row_heading level0 row32\" >32</th>\n",
              "      <td id=\"T_da2b6_row32_col0\" class=\"data row32 col0\" >christian</td>\n",
              "      <td id=\"T_da2b6_row32_col1\" class=\"data row32 col1\" >2225</td>\n",
              "    </tr>\n",
              "    <tr>\n",
              "      <th id=\"T_da2b6_level0_row33\" class=\"row_heading level0 row33\" >33</th>\n",
              "      <td id=\"T_da2b6_row33_col0\" class=\"data row33 col0\" >mkr</td>\n",
              "      <td id=\"T_da2b6_row33_col1\" class=\"data row33 col1\" >2197</td>\n",
              "    </tr>\n",
              "    <tr>\n",
              "      <th id=\"T_da2b6_level0_row34\" class=\"row_heading level0 row34\" >34</th>\n",
              "      <td id=\"T_da2b6_row34_col0\" class=\"data row34 col0\" >right</td>\n",
              "      <td id=\"T_da2b6_row34_col1\" class=\"data row34 col1\" >2090</td>\n",
              "    </tr>\n",
              "    <tr>\n",
              "      <th id=\"T_da2b6_level0_row35\" class=\"row_heading level0 row35\" >35</th>\n",
              "      <td id=\"T_da2b6_row35_col0\" class=\"data row35 col0\" >would</td>\n",
              "      <td id=\"T_da2b6_row35_col1\" class=\"data row35 col1\" >1835</td>\n",
              "    </tr>\n",
              "    <tr>\n",
              "      <th id=\"T_da2b6_level0_row36\" class=\"row_heading level0 row36\" >36</th>\n",
              "      <td id=\"T_da2b6_row36_col0\" class=\"data row36 col0\" >want</td>\n",
              "      <td id=\"T_da2b6_row36_col1\" class=\"data row36 col1\" >1730</td>\n",
              "    </tr>\n",
              "    <tr>\n",
              "      <th id=\"T_da2b6_level0_row37\" class=\"row_heading level0 row37\" >37</th>\n",
              "      <td id=\"T_da2b6_row37_col0\" class=\"data row37 col0\" >use</td>\n",
              "      <td id=\"T_da2b6_row37_col1\" class=\"data row37 col1\" >1677</td>\n",
              "    </tr>\n",
              "    <tr>\n",
              "      <th id=\"T_da2b6_level0_row38\" class=\"row_heading level0 row38\" >38</th>\n",
              "      <td id=\"T_da2b6_row38_col0\" class=\"data row38 col0\" >got</td>\n",
              "      <td id=\"T_da2b6_row38_col1\" class=\"data row38 col1\" >1644</td>\n",
              "    </tr>\n",
              "    <tr>\n",
              "      <th id=\"T_da2b6_level0_row39\" class=\"row_heading level0 row39\" >39</th>\n",
              "      <td id=\"T_da2b6_row39_col0\" class=\"data row39 col0\" >see</td>\n",
              "      <td id=\"T_da2b6_row39_col1\" class=\"data row39 col1\" >1594</td>\n",
              "    </tr>\n",
              "    <tr>\n",
              "      <th id=\"T_da2b6_level0_row40\" class=\"row_heading level0 row40\" >40</th>\n",
              "      <td id=\"T_da2b6_row40_col0\" class=\"data row40 col0\" >support</td>\n",
              "      <td id=\"T_da2b6_row40_col1\" class=\"data row40 col1\" >1592</td>\n",
              "    </tr>\n",
              "    <tr>\n",
              "      <th id=\"T_da2b6_level0_row41\" class=\"row_heading level0 row41\" >41</th>\n",
              "      <td id=\"T_da2b6_row41_col0\" class=\"data row41 col0\" >women</td>\n",
              "      <td id=\"T_da2b6_row41_col1\" class=\"data row41 col1\" >1562</td>\n",
              "    </tr>\n",
              "    <tr>\n",
              "      <th id=\"T_da2b6_level0_row42\" class=\"row_heading level0 row42\" >42</th>\n",
              "      <td id=\"T_da2b6_row42_col0\" class=\"data row42 col0\" >time</td>\n",
              "      <td id=\"T_da2b6_row42_col1\" class=\"data row42 col1\" >1557</td>\n",
              "    </tr>\n",
              "    <tr>\n",
              "      <th id=\"T_da2b6_level0_row43\" class=\"row_heading level0 row43\" >43</th>\n",
              "      <td id=\"T_da2b6_row43_col0\" class=\"data row43 col0\" >even</td>\n",
              "      <td id=\"T_da2b6_row43_col1\" class=\"data row43 col1\" >1516</td>\n",
              "    </tr>\n",
              "    <tr>\n",
              "      <th id=\"T_da2b6_level0_row44\" class=\"row_heading level0 row44\" >44</th>\n",
              "      <td id=\"T_da2b6_row44_col0\" class=\"data row44 col0\" >look</td>\n",
              "      <td id=\"T_da2b6_row44_col1\" class=\"data row44 col1\" >1505</td>\n",
              "    </tr>\n",
              "    <tr>\n",
              "      <th id=\"T_da2b6_level0_row45\" class=\"row_heading level0 row45\" >45</th>\n",
              "      <td id=\"T_da2b6_row45_col0\" class=\"data row45 col0\" >hate</td>\n",
              "      <td id=\"T_da2b6_row45_col1\" class=\"data row45 col1\" >1466</td>\n",
              "    </tr>\n",
              "    <tr>\n",
              "      <th id=\"T_da2b6_level0_row46\" class=\"row_heading level0 row46\" >46</th>\n",
              "      <td id=\"T_da2b6_row46_col0\" class=\"data row46 col0\" >ur</td>\n",
              "      <td id=\"T_da2b6_row46_col1\" class=\"data row46 col1\" >1458</td>\n",
              "    </tr>\n",
              "    <tr>\n",
              "      <th id=\"T_da2b6_level0_row47\" class=\"row_heading level0 row47\" >47</th>\n",
              "      <td id=\"T_da2b6_row47_col0\" class=\"data row47 col0\" >cant</td>\n",
              "      <td id=\"T_da2b6_row47_col1\" class=\"data row47 col1\" >1443</td>\n",
              "    </tr>\n",
              "    <tr>\n",
              "      <th id=\"T_da2b6_level0_row48\" class=\"row_heading level0 row48\" >48</th>\n",
              "      <td id=\"T_da2b6_row48_col0\" class=\"data row48 col0\" >woman</td>\n",
              "      <td id=\"T_da2b6_row48_col1\" class=\"data row48 col1\" >1435</td>\n",
              "    </tr>\n",
              "    <tr>\n",
              "      <th id=\"T_da2b6_level0_row49\" class=\"row_heading level0 row49\" >49</th>\n",
              "      <td id=\"T_da2b6_row49_col0\" class=\"data row49 col0\" >terrorist</td>\n",
              "      <td id=\"T_da2b6_row49_col1\" class=\"data row49 col1\" >1434</td>\n",
              "    </tr>\n",
              "  </tbody>\n",
              "</table>\n"
            ]
          },
          "metadata": {},
          "execution_count": 164
        }
      ]
    },
    {
      "cell_type": "code",
      "source": [
        "import plotly.express as px\n",
        "\n",
        "figure = px.bar(tweet_list01, x ='Count', y = 'Words', title = 'Top 50 words in the tweets', orientation = 'h', width=600, height=1000, color='Words')\n",
        "figure.show()"
      ],
      "metadata": {
        "colab": {
          "base_uri": "https://localhost:8080/",
          "height": 1000
        },
        "id": "3OgMuiHSWGTO",
        "outputId": "87b0e68d-db28-4f01-8c0c-d5c4de27b4d8"
      },
      "execution_count": null,
      "outputs": [
        {
          "output_type": "display_data",
          "data": {
            "text/html": [
              "<html>\n",
              "<head><meta charset=\"utf-8\" /></head>\n",
              "<body>\n",
              "    <div>            <script src=\"https://cdnjs.cloudflare.com/ajax/libs/mathjax/2.7.5/MathJax.js?config=TeX-AMS-MML_SVG\"></script><script type=\"text/javascript\">if (window.MathJax) {MathJax.Hub.Config({SVG: {font: \"STIX-Web\"}});}</script>                <script type=\"text/javascript\">window.PlotlyConfig = {MathJaxConfig: 'local'};</script>\n",
              "        <script src=\"https://cdn.plot.ly/plotly-2.8.3.min.js\"></script>                <div id=\"fd12fd74-2744-4581-8dcf-6f3862ad80d3\" class=\"plotly-graph-div\" style=\"height:1000px; width:600px;\"></div>            <script type=\"text/javascript\">                                    window.PLOTLYENV=window.PLOTLYENV || {};                                    if (document.getElementById(\"fd12fd74-2744-4581-8dcf-6f3862ad80d3\")) {                    Plotly.newPlot(                        \"fd12fd74-2744-4581-8dcf-6f3862ad80d3\",                        [{\"alignmentgroup\":\"True\",\"hovertemplate\":\"Words=%{y}<br>Count=%{x}<extra></extra>\",\"legendgroup\":\"bulli\",\"marker\":{\"color\":\"#636efa\",\"pattern\":{\"shape\":\"\"}},\"name\":\"bulli\",\"offsetgroup\":\"bulli\",\"orientation\":\"h\",\"showlegend\":true,\"textposition\":\"auto\",\"x\":[10097],\"xaxis\":\"x\",\"y\":[\"bulli\"],\"yaxis\":\"y\",\"type\":\"bar\"},{\"alignmentgroup\":\"True\",\"hovertemplate\":\"Words=%{y}<br>Count=%{x}<extra></extra>\",\"legendgroup\":\"school\",\"marker\":{\"color\":\"#EF553B\",\"pattern\":{\"shape\":\"\"}},\"name\":\"school\",\"offsetgroup\":\"school\",\"orientation\":\"h\",\"showlegend\":true,\"textposition\":\"auto\",\"x\":[9020],\"xaxis\":\"x\",\"y\":[\"school\"],\"yaxis\":\"y\",\"type\":\"bar\"},{\"alignmentgroup\":\"True\",\"hovertemplate\":\"Words=%{y}<br>Count=%{x}<extra></extra>\",\"legendgroup\":\"fuck\",\"marker\":{\"color\":\"#00cc96\",\"pattern\":{\"shape\":\"\"}},\"name\":\"fuck\",\"offsetgroup\":\"fuck\",\"orientation\":\"h\",\"showlegend\":true,\"textposition\":\"auto\",\"x\":[7162],\"xaxis\":\"x\",\"y\":[\"fuck\"],\"yaxis\":\"y\",\"type\":\"bar\"},{\"alignmentgroup\":\"True\",\"hovertemplate\":\"Words=%{y}<br>Count=%{x}<extra></extra>\",\"legendgroup\":\"like\",\"marker\":{\"color\":\"#ab63fa\",\"pattern\":{\"shape\":\"\"}},\"name\":\"like\",\"offsetgroup\":\"like\",\"orientation\":\"h\",\"showlegend\":true,\"textposition\":\"auto\",\"x\":[5789],\"xaxis\":\"x\",\"y\":[\"like\"],\"yaxis\":\"y\",\"type\":\"bar\"},{\"alignmentgroup\":\"True\",\"hovertemplate\":\"Words=%{y}<br>Count=%{x}<extra></extra>\",\"legendgroup\":\"nigger\",\"marker\":{\"color\":\"#FFA15A\",\"pattern\":{\"shape\":\"\"}},\"name\":\"nigger\",\"offsetgroup\":\"nigger\",\"orientation\":\"h\",\"showlegend\":true,\"textposition\":\"auto\",\"x\":[5436],\"xaxis\":\"x\",\"y\":[\"nigger\"],\"yaxis\":\"y\",\"type\":\"bar\"},{\"alignmentgroup\":\"True\",\"hovertemplate\":\"Words=%{y}<br>Count=%{x}<extra></extra>\",\"legendgroup\":\"girl\",\"marker\":{\"color\":\"#19d3f3\",\"pattern\":{\"shape\":\"\"}},\"name\":\"girl\",\"offsetgroup\":\"girl\",\"orientation\":\"h\",\"showlegend\":true,\"textposition\":\"auto\",\"x\":[5426],\"xaxis\":\"x\",\"y\":[\"girl\"],\"yaxis\":\"y\",\"type\":\"bar\"},{\"alignmentgroup\":\"True\",\"hovertemplate\":\"Words=%{y}<br>Count=%{x}<extra></extra>\",\"legendgroup\":\"joke\",\"marker\":{\"color\":\"#FF6692\",\"pattern\":{\"shape\":\"\"}},\"name\":\"joke\",\"offsetgroup\":\"joke\",\"orientation\":\"h\",\"showlegend\":true,\"textposition\":\"auto\",\"x\":[5362],\"xaxis\":\"x\",\"y\":[\"joke\"],\"yaxis\":\"y\",\"type\":\"bar\"},{\"alignmentgroup\":\"True\",\"hovertemplate\":\"Words=%{y}<br>Count=%{x}<extra></extra>\",\"legendgroup\":\"dumb\",\"marker\":{\"color\":\"#B6E880\",\"pattern\":{\"shape\":\"\"}},\"name\":\"dumb\",\"offsetgroup\":\"dumb\",\"orientation\":\"h\",\"showlegend\":true,\"textposition\":\"auto\",\"x\":[5139],\"xaxis\":\"x\",\"y\":[\"dumb\"],\"yaxis\":\"y\",\"type\":\"bar\"},{\"alignmentgroup\":\"True\",\"hovertemplate\":\"Words=%{y}<br>Count=%{x}<extra></extra>\",\"legendgroup\":\"high\",\"marker\":{\"color\":\"#FF97FF\",\"pattern\":{\"shape\":\"\"}},\"name\":\"high\",\"offsetgroup\":\"high\",\"orientation\":\"h\",\"showlegend\":true,\"textposition\":\"auto\",\"x\":[5002],\"xaxis\":\"x\",\"y\":[\"high\"],\"yaxis\":\"y\",\"type\":\"bar\"},{\"alignmentgroup\":\"True\",\"hovertemplate\":\"Words=%{y}<br>Count=%{x}<extra></extra>\",\"legendgroup\":\"muslim\",\"marker\":{\"color\":\"#FECB52\",\"pattern\":{\"shape\":\"\"}},\"name\":\"muslim\",\"offsetgroup\":\"muslim\",\"orientation\":\"h\",\"showlegend\":true,\"textposition\":\"auto\",\"x\":[4741],\"xaxis\":\"x\",\"y\":[\"muslim\"],\"yaxis\":\"y\",\"type\":\"bar\"},{\"alignmentgroup\":\"True\",\"hovertemplate\":\"Words=%{y}<br>Count=%{x}<extra></extra>\",\"legendgroup\":\"peopl\",\"marker\":{\"color\":\"#636efa\",\"pattern\":{\"shape\":\"\"}},\"name\":\"peopl\",\"offsetgroup\":\"peopl\",\"orientation\":\"h\",\"showlegend\":true,\"textposition\":\"auto\",\"x\":[4450],\"xaxis\":\"x\",\"y\":[\"peopl\"],\"yaxis\":\"y\",\"type\":\"bar\"},{\"alignmentgroup\":\"True\",\"hovertemplate\":\"Words=%{y}<br>Count=%{x}<extra></extra>\",\"legendgroup\":\"rape\",\"marker\":{\"color\":\"#EF553B\",\"pattern\":{\"shape\":\"\"}},\"name\":\"rape\",\"offsetgroup\":\"rape\",\"orientation\":\"h\",\"showlegend\":true,\"textposition\":\"auto\",\"x\":[4316],\"xaxis\":\"x\",\"y\":[\"rape\"],\"yaxis\":\"y\",\"type\":\"bar\"},{\"alignmentgroup\":\"True\",\"hovertemplate\":\"Words=%{y}<br>Count=%{x}<extra></extra>\",\"legendgroup\":\"gay\",\"marker\":{\"color\":\"#00cc96\",\"pattern\":{\"shape\":\"\"}},\"name\":\"gay\",\"offsetgroup\":\"gay\",\"orientation\":\"h\",\"showlegend\":true,\"textposition\":\"auto\",\"x\":[4197],\"xaxis\":\"x\",\"y\":[\"gay\"],\"yaxis\":\"y\",\"type\":\"bar\"},{\"alignmentgroup\":\"True\",\"hovertemplate\":\"Words=%{y}<br>Count=%{x}<extra></extra>\",\"legendgroup\":\"dont\",\"marker\":{\"color\":\"#ab63fa\",\"pattern\":{\"shape\":\"\"}},\"name\":\"dont\",\"offsetgroup\":\"dont\",\"orientation\":\"h\",\"showlegend\":true,\"textposition\":\"auto\",\"x\":[3912],\"xaxis\":\"x\",\"y\":[\"dont\"],\"yaxis\":\"y\",\"type\":\"bar\"},{\"alignmentgroup\":\"True\",\"hovertemplate\":\"Words=%{y}<br>Count=%{x}<extra></extra>\",\"legendgroup\":\"u\",\"marker\":{\"color\":\"#FFA15A\",\"pattern\":{\"shape\":\"\"}},\"name\":\"u\",\"offsetgroup\":\"u\",\"orientation\":\"h\",\"showlegend\":true,\"textposition\":\"auto\",\"x\":[3896],\"xaxis\":\"x\",\"y\":[\"u\"],\"yaxis\":\"y\",\"type\":\"bar\"},{\"alignmentgroup\":\"True\",\"hovertemplate\":\"Words=%{y}<br>Count=%{x}<extra></extra>\",\"legendgroup\":\"call\",\"marker\":{\"color\":\"#19d3f3\",\"pattern\":{\"shape\":\"\"}},\"name\":\"call\",\"offsetgroup\":\"call\",\"orientation\":\"h\",\"showlegend\":true,\"textposition\":\"auto\",\"x\":[3769],\"xaxis\":\"x\",\"y\":[\"call\"],\"yaxis\":\"y\",\"type\":\"bar\"},{\"alignmentgroup\":\"True\",\"hovertemplate\":\"Words=%{y}<br>Count=%{x}<extra></extra>\",\"legendgroup\":\"im\",\"marker\":{\"color\":\"#FF6692\",\"pattern\":{\"shape\":\"\"}},\"name\":\"im\",\"offsetgroup\":\"im\",\"orientation\":\"h\",\"showlegend\":true,\"textposition\":\"auto\",\"x\":[3719],\"xaxis\":\"x\",\"y\":[\"im\"],\"yaxis\":\"y\",\"type\":\"bar\"},{\"alignmentgroup\":\"True\",\"hovertemplate\":\"Words=%{y}<br>Count=%{x}<extra></extra>\",\"legendgroup\":\"one\",\"marker\":{\"color\":\"#B6E880\",\"pattern\":{\"shape\":\"\"}},\"name\":\"one\",\"offsetgroup\":\"one\",\"orientation\":\"h\",\"showlegend\":true,\"textposition\":\"auto\",\"x\":[3462],\"xaxis\":\"x\",\"y\":[\"one\"],\"yaxis\":\"y\",\"type\":\"bar\"},{\"alignmentgroup\":\"True\",\"hovertemplate\":\"Words=%{y}<br>Count=%{x}<extra></extra>\",\"legendgroup\":\"rt\",\"marker\":{\"color\":\"#FF97FF\",\"pattern\":{\"shape\":\"\"}},\"name\":\"rt\",\"offsetgroup\":\"rt\",\"orientation\":\"h\",\"showlegend\":true,\"textposition\":\"auto\",\"x\":[3349],\"xaxis\":\"x\",\"y\":[\"rt\"],\"yaxis\":\"y\",\"type\":\"bar\"},{\"alignmentgroup\":\"True\",\"hovertemplate\":\"Words=%{y}<br>Count=%{x}<extra></extra>\",\"legendgroup\":\"get\",\"marker\":{\"color\":\"#FECB52\",\"pattern\":{\"shape\":\"\"}},\"name\":\"get\",\"offsetgroup\":\"get\",\"orientation\":\"h\",\"showlegend\":true,\"textposition\":\"auto\",\"x\":[3288],\"xaxis\":\"x\",\"y\":[\"get\"],\"yaxis\":\"y\",\"type\":\"bar\"},{\"alignmentgroup\":\"True\",\"hovertemplate\":\"Words=%{y}<br>Count=%{x}<extra></extra>\",\"legendgroup\":\"idiot\",\"marker\":{\"color\":\"#636efa\",\"pattern\":{\"shape\":\"\"}},\"name\":\"idiot\",\"offsetgroup\":\"idiot\",\"orientation\":\"h\",\"showlegend\":true,\"textposition\":\"auto\",\"x\":[3213],\"xaxis\":\"x\",\"y\":[\"idiot\"],\"yaxis\":\"y\",\"type\":\"bar\"},{\"alignmentgroup\":\"True\",\"hovertemplate\":\"Words=%{y}<br>Count=%{x}<extra></extra>\",\"legendgroup\":\"say\",\"marker\":{\"color\":\"#EF553B\",\"pattern\":{\"shape\":\"\"}},\"name\":\"say\",\"offsetgroup\":\"say\",\"orientation\":\"h\",\"showlegend\":true,\"textposition\":\"auto\",\"x\":[2861],\"xaxis\":\"x\",\"y\":[\"say\"],\"yaxis\":\"y\",\"type\":\"bar\"},{\"alignmentgroup\":\"True\",\"hovertemplate\":\"Words=%{y}<br>Count=%{x}<extra></extra>\",\"legendgroup\":\"black\",\"marker\":{\"color\":\"#00cc96\",\"pattern\":{\"shape\":\"\"}},\"name\":\"black\",\"offsetgroup\":\"black\",\"orientation\":\"h\",\"showlegend\":true,\"textposition\":\"auto\",\"x\":[2828],\"xaxis\":\"x\",\"y\":[\"black\"],\"yaxis\":\"y\",\"type\":\"bar\"},{\"alignmentgroup\":\"True\",\"hovertemplate\":\"Words=%{y}<br>Count=%{x}<extra></extra>\",\"legendgroup\":\"make\",\"marker\":{\"color\":\"#ab63fa\",\"pattern\":{\"shape\":\"\"}},\"name\":\"make\",\"offsetgroup\":\"make\",\"orientation\":\"h\",\"showlegend\":true,\"textposition\":\"auto\",\"x\":[2683],\"xaxis\":\"x\",\"y\":[\"make\"],\"yaxis\":\"y\",\"type\":\"bar\"},{\"alignmentgroup\":\"True\",\"hovertemplate\":\"Words=%{y}<br>Count=%{x}<extra></extra>\",\"legendgroup\":\"ass\",\"marker\":{\"color\":\"#FFA15A\",\"pattern\":{\"shape\":\"\"}},\"name\":\"ass\",\"offsetgroup\":\"ass\",\"orientation\":\"h\",\"showlegend\":true,\"textposition\":\"auto\",\"x\":[2606],\"xaxis\":\"x\",\"y\":[\"ass\"],\"yaxis\":\"y\",\"type\":\"bar\"},{\"alignmentgroup\":\"True\",\"hovertemplate\":\"Words=%{y}<br>Count=%{x}<extra></extra>\",\"legendgroup\":\"islam\",\"marker\":{\"color\":\"#19d3f3\",\"pattern\":{\"shape\":\"\"}},\"name\":\"islam\",\"offsetgroup\":\"islam\",\"orientation\":\"h\",\"showlegend\":true,\"textposition\":\"auto\",\"x\":[2566],\"xaxis\":\"x\",\"y\":[\"islam\"],\"yaxis\":\"y\",\"type\":\"bar\"},{\"alignmentgroup\":\"True\",\"hovertemplate\":\"Words=%{y}<br>Count=%{x}<extra></extra>\",\"legendgroup\":\"bitch\",\"marker\":{\"color\":\"#FF6692\",\"pattern\":{\"shape\":\"\"}},\"name\":\"bitch\",\"offsetgroup\":\"bitch\",\"orientation\":\"h\",\"showlegend\":true,\"textposition\":\"auto\",\"x\":[2407],\"xaxis\":\"x\",\"y\":[\"bitch\"],\"yaxis\":\"y\",\"type\":\"bar\"},{\"alignmentgroup\":\"True\",\"hovertemplate\":\"Words=%{y}<br>Count=%{x}<extra></extra>\",\"legendgroup\":\"amp\",\"marker\":{\"color\":\"#B6E880\",\"pattern\":{\"shape\":\"\"}},\"name\":\"amp\",\"offsetgroup\":\"amp\",\"orientation\":\"h\",\"showlegend\":true,\"textposition\":\"auto\",\"x\":[2404],\"xaxis\":\"x\",\"y\":[\"amp\"],\"yaxis\":\"y\",\"type\":\"bar\"},{\"alignmentgroup\":\"True\",\"hovertemplate\":\"Words=%{y}<br>Count=%{x}<extra></extra>\",\"legendgroup\":\"go\",\"marker\":{\"color\":\"#FF97FF\",\"pattern\":{\"shape\":\"\"}},\"name\":\"go\",\"offsetgroup\":\"go\",\"orientation\":\"h\",\"showlegend\":true,\"textposition\":\"auto\",\"x\":[2298],\"xaxis\":\"x\",\"y\":[\"go\"],\"yaxis\":\"y\",\"type\":\"bar\"},{\"alignmentgroup\":\"True\",\"hovertemplate\":\"Words=%{y}<br>Count=%{x}<extra></extra>\",\"legendgroup\":\"know\",\"marker\":{\"color\":\"#FECB52\",\"pattern\":{\"shape\":\"\"}},\"name\":\"know\",\"offsetgroup\":\"know\",\"orientation\":\"h\",\"showlegend\":true,\"textposition\":\"auto\",\"x\":[2281],\"xaxis\":\"x\",\"y\":[\"know\"],\"yaxis\":\"y\",\"type\":\"bar\"},{\"alignmentgroup\":\"True\",\"hovertemplate\":\"Words=%{y}<br>Count=%{x}<extra></extra>\",\"legendgroup\":\"think\",\"marker\":{\"color\":\"#636efa\",\"pattern\":{\"shape\":\"\"}},\"name\":\"think\",\"offsetgroup\":\"think\",\"orientation\":\"h\",\"showlegend\":true,\"textposition\":\"auto\",\"x\":[2248],\"xaxis\":\"x\",\"y\":[\"think\"],\"yaxis\":\"y\",\"type\":\"bar\"},{\"alignmentgroup\":\"True\",\"hovertemplate\":\"Words=%{y}<br>Count=%{x}<extra></extra>\",\"legendgroup\":\"white\",\"marker\":{\"color\":\"#EF553B\",\"pattern\":{\"shape\":\"\"}},\"name\":\"white\",\"offsetgroup\":\"white\",\"orientation\":\"h\",\"showlegend\":true,\"textposition\":\"auto\",\"x\":[2228],\"xaxis\":\"x\",\"y\":[\"white\"],\"yaxis\":\"y\",\"type\":\"bar\"},{\"alignmentgroup\":\"True\",\"hovertemplate\":\"Words=%{y}<br>Count=%{x}<extra></extra>\",\"legendgroup\":\"christian\",\"marker\":{\"color\":\"#00cc96\",\"pattern\":{\"shape\":\"\"}},\"name\":\"christian\",\"offsetgroup\":\"christian\",\"orientation\":\"h\",\"showlegend\":true,\"textposition\":\"auto\",\"x\":[2225],\"xaxis\":\"x\",\"y\":[\"christian\"],\"yaxis\":\"y\",\"type\":\"bar\"},{\"alignmentgroup\":\"True\",\"hovertemplate\":\"Words=%{y}<br>Count=%{x}<extra></extra>\",\"legendgroup\":\"mkr\",\"marker\":{\"color\":\"#ab63fa\",\"pattern\":{\"shape\":\"\"}},\"name\":\"mkr\",\"offsetgroup\":\"mkr\",\"orientation\":\"h\",\"showlegend\":true,\"textposition\":\"auto\",\"x\":[2197],\"xaxis\":\"x\",\"y\":[\"mkr\"],\"yaxis\":\"y\",\"type\":\"bar\"},{\"alignmentgroup\":\"True\",\"hovertemplate\":\"Words=%{y}<br>Count=%{x}<extra></extra>\",\"legendgroup\":\"right\",\"marker\":{\"color\":\"#FFA15A\",\"pattern\":{\"shape\":\"\"}},\"name\":\"right\",\"offsetgroup\":\"right\",\"orientation\":\"h\",\"showlegend\":true,\"textposition\":\"auto\",\"x\":[2090],\"xaxis\":\"x\",\"y\":[\"right\"],\"yaxis\":\"y\",\"type\":\"bar\"},{\"alignmentgroup\":\"True\",\"hovertemplate\":\"Words=%{y}<br>Count=%{x}<extra></extra>\",\"legendgroup\":\"would\",\"marker\":{\"color\":\"#19d3f3\",\"pattern\":{\"shape\":\"\"}},\"name\":\"would\",\"offsetgroup\":\"would\",\"orientation\":\"h\",\"showlegend\":true,\"textposition\":\"auto\",\"x\":[1835],\"xaxis\":\"x\",\"y\":[\"would\"],\"yaxis\":\"y\",\"type\":\"bar\"},{\"alignmentgroup\":\"True\",\"hovertemplate\":\"Words=%{y}<br>Count=%{x}<extra></extra>\",\"legendgroup\":\"want\",\"marker\":{\"color\":\"#FF6692\",\"pattern\":{\"shape\":\"\"}},\"name\":\"want\",\"offsetgroup\":\"want\",\"orientation\":\"h\",\"showlegend\":true,\"textposition\":\"auto\",\"x\":[1730],\"xaxis\":\"x\",\"y\":[\"want\"],\"yaxis\":\"y\",\"type\":\"bar\"},{\"alignmentgroup\":\"True\",\"hovertemplate\":\"Words=%{y}<br>Count=%{x}<extra></extra>\",\"legendgroup\":\"use\",\"marker\":{\"color\":\"#B6E880\",\"pattern\":{\"shape\":\"\"}},\"name\":\"use\",\"offsetgroup\":\"use\",\"orientation\":\"h\",\"showlegend\":true,\"textposition\":\"auto\",\"x\":[1677],\"xaxis\":\"x\",\"y\":[\"use\"],\"yaxis\":\"y\",\"type\":\"bar\"},{\"alignmentgroup\":\"True\",\"hovertemplate\":\"Words=%{y}<br>Count=%{x}<extra></extra>\",\"legendgroup\":\"got\",\"marker\":{\"color\":\"#FF97FF\",\"pattern\":{\"shape\":\"\"}},\"name\":\"got\",\"offsetgroup\":\"got\",\"orientation\":\"h\",\"showlegend\":true,\"textposition\":\"auto\",\"x\":[1644],\"xaxis\":\"x\",\"y\":[\"got\"],\"yaxis\":\"y\",\"type\":\"bar\"},{\"alignmentgroup\":\"True\",\"hovertemplate\":\"Words=%{y}<br>Count=%{x}<extra></extra>\",\"legendgroup\":\"see\",\"marker\":{\"color\":\"#FECB52\",\"pattern\":{\"shape\":\"\"}},\"name\":\"see\",\"offsetgroup\":\"see\",\"orientation\":\"h\",\"showlegend\":true,\"textposition\":\"auto\",\"x\":[1594],\"xaxis\":\"x\",\"y\":[\"see\"],\"yaxis\":\"y\",\"type\":\"bar\"},{\"alignmentgroup\":\"True\",\"hovertemplate\":\"Words=%{y}<br>Count=%{x}<extra></extra>\",\"legendgroup\":\"support\",\"marker\":{\"color\":\"#636efa\",\"pattern\":{\"shape\":\"\"}},\"name\":\"support\",\"offsetgroup\":\"support\",\"orientation\":\"h\",\"showlegend\":true,\"textposition\":\"auto\",\"x\":[1592],\"xaxis\":\"x\",\"y\":[\"support\"],\"yaxis\":\"y\",\"type\":\"bar\"},{\"alignmentgroup\":\"True\",\"hovertemplate\":\"Words=%{y}<br>Count=%{x}<extra></extra>\",\"legendgroup\":\"women\",\"marker\":{\"color\":\"#EF553B\",\"pattern\":{\"shape\":\"\"}},\"name\":\"women\",\"offsetgroup\":\"women\",\"orientation\":\"h\",\"showlegend\":true,\"textposition\":\"auto\",\"x\":[1562],\"xaxis\":\"x\",\"y\":[\"women\"],\"yaxis\":\"y\",\"type\":\"bar\"},{\"alignmentgroup\":\"True\",\"hovertemplate\":\"Words=%{y}<br>Count=%{x}<extra></extra>\",\"legendgroup\":\"time\",\"marker\":{\"color\":\"#00cc96\",\"pattern\":{\"shape\":\"\"}},\"name\":\"time\",\"offsetgroup\":\"time\",\"orientation\":\"h\",\"showlegend\":true,\"textposition\":\"auto\",\"x\":[1557],\"xaxis\":\"x\",\"y\":[\"time\"],\"yaxis\":\"y\",\"type\":\"bar\"},{\"alignmentgroup\":\"True\",\"hovertemplate\":\"Words=%{y}<br>Count=%{x}<extra></extra>\",\"legendgroup\":\"even\",\"marker\":{\"color\":\"#ab63fa\",\"pattern\":{\"shape\":\"\"}},\"name\":\"even\",\"offsetgroup\":\"even\",\"orientation\":\"h\",\"showlegend\":true,\"textposition\":\"auto\",\"x\":[1516],\"xaxis\":\"x\",\"y\":[\"even\"],\"yaxis\":\"y\",\"type\":\"bar\"},{\"alignmentgroup\":\"True\",\"hovertemplate\":\"Words=%{y}<br>Count=%{x}<extra></extra>\",\"legendgroup\":\"look\",\"marker\":{\"color\":\"#FFA15A\",\"pattern\":{\"shape\":\"\"}},\"name\":\"look\",\"offsetgroup\":\"look\",\"orientation\":\"h\",\"showlegend\":true,\"textposition\":\"auto\",\"x\":[1505],\"xaxis\":\"x\",\"y\":[\"look\"],\"yaxis\":\"y\",\"type\":\"bar\"},{\"alignmentgroup\":\"True\",\"hovertemplate\":\"Words=%{y}<br>Count=%{x}<extra></extra>\",\"legendgroup\":\"hate\",\"marker\":{\"color\":\"#19d3f3\",\"pattern\":{\"shape\":\"\"}},\"name\":\"hate\",\"offsetgroup\":\"hate\",\"orientation\":\"h\",\"showlegend\":true,\"textposition\":\"auto\",\"x\":[1466],\"xaxis\":\"x\",\"y\":[\"hate\"],\"yaxis\":\"y\",\"type\":\"bar\"},{\"alignmentgroup\":\"True\",\"hovertemplate\":\"Words=%{y}<br>Count=%{x}<extra></extra>\",\"legendgroup\":\"ur\",\"marker\":{\"color\":\"#FF6692\",\"pattern\":{\"shape\":\"\"}},\"name\":\"ur\",\"offsetgroup\":\"ur\",\"orientation\":\"h\",\"showlegend\":true,\"textposition\":\"auto\",\"x\":[1458],\"xaxis\":\"x\",\"y\":[\"ur\"],\"yaxis\":\"y\",\"type\":\"bar\"},{\"alignmentgroup\":\"True\",\"hovertemplate\":\"Words=%{y}<br>Count=%{x}<extra></extra>\",\"legendgroup\":\"cant\",\"marker\":{\"color\":\"#B6E880\",\"pattern\":{\"shape\":\"\"}},\"name\":\"cant\",\"offsetgroup\":\"cant\",\"orientation\":\"h\",\"showlegend\":true,\"textposition\":\"auto\",\"x\":[1443],\"xaxis\":\"x\",\"y\":[\"cant\"],\"yaxis\":\"y\",\"type\":\"bar\"},{\"alignmentgroup\":\"True\",\"hovertemplate\":\"Words=%{y}<br>Count=%{x}<extra></extra>\",\"legendgroup\":\"woman\",\"marker\":{\"color\":\"#FF97FF\",\"pattern\":{\"shape\":\"\"}},\"name\":\"woman\",\"offsetgroup\":\"woman\",\"orientation\":\"h\",\"showlegend\":true,\"textposition\":\"auto\",\"x\":[1435],\"xaxis\":\"x\",\"y\":[\"woman\"],\"yaxis\":\"y\",\"type\":\"bar\"},{\"alignmentgroup\":\"True\",\"hovertemplate\":\"Words=%{y}<br>Count=%{x}<extra></extra>\",\"legendgroup\":\"terrorist\",\"marker\":{\"color\":\"#FECB52\",\"pattern\":{\"shape\":\"\"}},\"name\":\"terrorist\",\"offsetgroup\":\"terrorist\",\"orientation\":\"h\",\"showlegend\":true,\"textposition\":\"auto\",\"x\":[1434],\"xaxis\":\"x\",\"y\":[\"terrorist\"],\"yaxis\":\"y\",\"type\":\"bar\"}],                        {\"template\":{\"data\":{\"bar\":[{\"error_x\":{\"color\":\"#2a3f5f\"},\"error_y\":{\"color\":\"#2a3f5f\"},\"marker\":{\"line\":{\"color\":\"#E5ECF6\",\"width\":0.5},\"pattern\":{\"fillmode\":\"overlay\",\"size\":10,\"solidity\":0.2}},\"type\":\"bar\"}],\"barpolar\":[{\"marker\":{\"line\":{\"color\":\"#E5ECF6\",\"width\":0.5},\"pattern\":{\"fillmode\":\"overlay\",\"size\":10,\"solidity\":0.2}},\"type\":\"barpolar\"}],\"carpet\":[{\"aaxis\":{\"endlinecolor\":\"#2a3f5f\",\"gridcolor\":\"white\",\"linecolor\":\"white\",\"minorgridcolor\":\"white\",\"startlinecolor\":\"#2a3f5f\"},\"baxis\":{\"endlinecolor\":\"#2a3f5f\",\"gridcolor\":\"white\",\"linecolor\":\"white\",\"minorgridcolor\":\"white\",\"startlinecolor\":\"#2a3f5f\"},\"type\":\"carpet\"}],\"choropleth\":[{\"colorbar\":{\"outlinewidth\":0,\"ticks\":\"\"},\"type\":\"choropleth\"}],\"contour\":[{\"colorbar\":{\"outlinewidth\":0,\"ticks\":\"\"},\"colorscale\":[[0.0,\"#0d0887\"],[0.1111111111111111,\"#46039f\"],[0.2222222222222222,\"#7201a8\"],[0.3333333333333333,\"#9c179e\"],[0.4444444444444444,\"#bd3786\"],[0.5555555555555556,\"#d8576b\"],[0.6666666666666666,\"#ed7953\"],[0.7777777777777778,\"#fb9f3a\"],[0.8888888888888888,\"#fdca26\"],[1.0,\"#f0f921\"]],\"type\":\"contour\"}],\"contourcarpet\":[{\"colorbar\":{\"outlinewidth\":0,\"ticks\":\"\"},\"type\":\"contourcarpet\"}],\"heatmap\":[{\"colorbar\":{\"outlinewidth\":0,\"ticks\":\"\"},\"colorscale\":[[0.0,\"#0d0887\"],[0.1111111111111111,\"#46039f\"],[0.2222222222222222,\"#7201a8\"],[0.3333333333333333,\"#9c179e\"],[0.4444444444444444,\"#bd3786\"],[0.5555555555555556,\"#d8576b\"],[0.6666666666666666,\"#ed7953\"],[0.7777777777777778,\"#fb9f3a\"],[0.8888888888888888,\"#fdca26\"],[1.0,\"#f0f921\"]],\"type\":\"heatmap\"}],\"heatmapgl\":[{\"colorbar\":{\"outlinewidth\":0,\"ticks\":\"\"},\"colorscale\":[[0.0,\"#0d0887\"],[0.1111111111111111,\"#46039f\"],[0.2222222222222222,\"#7201a8\"],[0.3333333333333333,\"#9c179e\"],[0.4444444444444444,\"#bd3786\"],[0.5555555555555556,\"#d8576b\"],[0.6666666666666666,\"#ed7953\"],[0.7777777777777778,\"#fb9f3a\"],[0.8888888888888888,\"#fdca26\"],[1.0,\"#f0f921\"]],\"type\":\"heatmapgl\"}],\"histogram\":[{\"marker\":{\"pattern\":{\"fillmode\":\"overlay\",\"size\":10,\"solidity\":0.2}},\"type\":\"histogram\"}],\"histogram2d\":[{\"colorbar\":{\"outlinewidth\":0,\"ticks\":\"\"},\"colorscale\":[[0.0,\"#0d0887\"],[0.1111111111111111,\"#46039f\"],[0.2222222222222222,\"#7201a8\"],[0.3333333333333333,\"#9c179e\"],[0.4444444444444444,\"#bd3786\"],[0.5555555555555556,\"#d8576b\"],[0.6666666666666666,\"#ed7953\"],[0.7777777777777778,\"#fb9f3a\"],[0.8888888888888888,\"#fdca26\"],[1.0,\"#f0f921\"]],\"type\":\"histogram2d\"}],\"histogram2dcontour\":[{\"colorbar\":{\"outlinewidth\":0,\"ticks\":\"\"},\"colorscale\":[[0.0,\"#0d0887\"],[0.1111111111111111,\"#46039f\"],[0.2222222222222222,\"#7201a8\"],[0.3333333333333333,\"#9c179e\"],[0.4444444444444444,\"#bd3786\"],[0.5555555555555556,\"#d8576b\"],[0.6666666666666666,\"#ed7953\"],[0.7777777777777778,\"#fb9f3a\"],[0.8888888888888888,\"#fdca26\"],[1.0,\"#f0f921\"]],\"type\":\"histogram2dcontour\"}],\"mesh3d\":[{\"colorbar\":{\"outlinewidth\":0,\"ticks\":\"\"},\"type\":\"mesh3d\"}],\"parcoords\":[{\"line\":{\"colorbar\":{\"outlinewidth\":0,\"ticks\":\"\"}},\"type\":\"parcoords\"}],\"pie\":[{\"automargin\":true,\"type\":\"pie\"}],\"scatter\":[{\"marker\":{\"colorbar\":{\"outlinewidth\":0,\"ticks\":\"\"}},\"type\":\"scatter\"}],\"scatter3d\":[{\"line\":{\"colorbar\":{\"outlinewidth\":0,\"ticks\":\"\"}},\"marker\":{\"colorbar\":{\"outlinewidth\":0,\"ticks\":\"\"}},\"type\":\"scatter3d\"}],\"scattercarpet\":[{\"marker\":{\"colorbar\":{\"outlinewidth\":0,\"ticks\":\"\"}},\"type\":\"scattercarpet\"}],\"scattergeo\":[{\"marker\":{\"colorbar\":{\"outlinewidth\":0,\"ticks\":\"\"}},\"type\":\"scattergeo\"}],\"scattergl\":[{\"marker\":{\"colorbar\":{\"outlinewidth\":0,\"ticks\":\"\"}},\"type\":\"scattergl\"}],\"scattermapbox\":[{\"marker\":{\"colorbar\":{\"outlinewidth\":0,\"ticks\":\"\"}},\"type\":\"scattermapbox\"}],\"scatterpolar\":[{\"marker\":{\"colorbar\":{\"outlinewidth\":0,\"ticks\":\"\"}},\"type\":\"scatterpolar\"}],\"scatterpolargl\":[{\"marker\":{\"colorbar\":{\"outlinewidth\":0,\"ticks\":\"\"}},\"type\":\"scatterpolargl\"}],\"scatterternary\":[{\"marker\":{\"colorbar\":{\"outlinewidth\":0,\"ticks\":\"\"}},\"type\":\"scatterternary\"}],\"surface\":[{\"colorbar\":{\"outlinewidth\":0,\"ticks\":\"\"},\"colorscale\":[[0.0,\"#0d0887\"],[0.1111111111111111,\"#46039f\"],[0.2222222222222222,\"#7201a8\"],[0.3333333333333333,\"#9c179e\"],[0.4444444444444444,\"#bd3786\"],[0.5555555555555556,\"#d8576b\"],[0.6666666666666666,\"#ed7953\"],[0.7777777777777778,\"#fb9f3a\"],[0.8888888888888888,\"#fdca26\"],[1.0,\"#f0f921\"]],\"type\":\"surface\"}],\"table\":[{\"cells\":{\"fill\":{\"color\":\"#EBF0F8\"},\"line\":{\"color\":\"white\"}},\"header\":{\"fill\":{\"color\":\"#C8D4E3\"},\"line\":{\"color\":\"white\"}},\"type\":\"table\"}]},\"layout\":{\"annotationdefaults\":{\"arrowcolor\":\"#2a3f5f\",\"arrowhead\":0,\"arrowwidth\":1},\"autotypenumbers\":\"strict\",\"coloraxis\":{\"colorbar\":{\"outlinewidth\":0,\"ticks\":\"\"}},\"colorscale\":{\"diverging\":[[0,\"#8e0152\"],[0.1,\"#c51b7d\"],[0.2,\"#de77ae\"],[0.3,\"#f1b6da\"],[0.4,\"#fde0ef\"],[0.5,\"#f7f7f7\"],[0.6,\"#e6f5d0\"],[0.7,\"#b8e186\"],[0.8,\"#7fbc41\"],[0.9,\"#4d9221\"],[1,\"#276419\"]],\"sequential\":[[0.0,\"#0d0887\"],[0.1111111111111111,\"#46039f\"],[0.2222222222222222,\"#7201a8\"],[0.3333333333333333,\"#9c179e\"],[0.4444444444444444,\"#bd3786\"],[0.5555555555555556,\"#d8576b\"],[0.6666666666666666,\"#ed7953\"],[0.7777777777777778,\"#fb9f3a\"],[0.8888888888888888,\"#fdca26\"],[1.0,\"#f0f921\"]],\"sequentialminus\":[[0.0,\"#0d0887\"],[0.1111111111111111,\"#46039f\"],[0.2222222222222222,\"#7201a8\"],[0.3333333333333333,\"#9c179e\"],[0.4444444444444444,\"#bd3786\"],[0.5555555555555556,\"#d8576b\"],[0.6666666666666666,\"#ed7953\"],[0.7777777777777778,\"#fb9f3a\"],[0.8888888888888888,\"#fdca26\"],[1.0,\"#f0f921\"]]},\"colorway\":[\"#636efa\",\"#EF553B\",\"#00cc96\",\"#ab63fa\",\"#FFA15A\",\"#19d3f3\",\"#FF6692\",\"#B6E880\",\"#FF97FF\",\"#FECB52\"],\"font\":{\"color\":\"#2a3f5f\"},\"geo\":{\"bgcolor\":\"white\",\"lakecolor\":\"white\",\"landcolor\":\"#E5ECF6\",\"showlakes\":true,\"showland\":true,\"subunitcolor\":\"white\"},\"hoverlabel\":{\"align\":\"left\"},\"hovermode\":\"closest\",\"mapbox\":{\"style\":\"light\"},\"paper_bgcolor\":\"white\",\"plot_bgcolor\":\"#E5ECF6\",\"polar\":{\"angularaxis\":{\"gridcolor\":\"white\",\"linecolor\":\"white\",\"ticks\":\"\"},\"bgcolor\":\"#E5ECF6\",\"radialaxis\":{\"gridcolor\":\"white\",\"linecolor\":\"white\",\"ticks\":\"\"}},\"scene\":{\"xaxis\":{\"backgroundcolor\":\"#E5ECF6\",\"gridcolor\":\"white\",\"gridwidth\":2,\"linecolor\":\"white\",\"showbackground\":true,\"ticks\":\"\",\"zerolinecolor\":\"white\"},\"yaxis\":{\"backgroundcolor\":\"#E5ECF6\",\"gridcolor\":\"white\",\"gridwidth\":2,\"linecolor\":\"white\",\"showbackground\":true,\"ticks\":\"\",\"zerolinecolor\":\"white\"},\"zaxis\":{\"backgroundcolor\":\"#E5ECF6\",\"gridcolor\":\"white\",\"gridwidth\":2,\"linecolor\":\"white\",\"showbackground\":true,\"ticks\":\"\",\"zerolinecolor\":\"white\"}},\"shapedefaults\":{\"line\":{\"color\":\"#2a3f5f\"}},\"ternary\":{\"aaxis\":{\"gridcolor\":\"white\",\"linecolor\":\"white\",\"ticks\":\"\"},\"baxis\":{\"gridcolor\":\"white\",\"linecolor\":\"white\",\"ticks\":\"\"},\"bgcolor\":\"#E5ECF6\",\"caxis\":{\"gridcolor\":\"white\",\"linecolor\":\"white\",\"ticks\":\"\"}},\"title\":{\"x\":0.05},\"xaxis\":{\"automargin\":true,\"gridcolor\":\"white\",\"linecolor\":\"white\",\"ticks\":\"\",\"title\":{\"standoff\":15},\"zerolinecolor\":\"white\",\"zerolinewidth\":2},\"yaxis\":{\"automargin\":true,\"gridcolor\":\"white\",\"linecolor\":\"white\",\"ticks\":\"\",\"title\":{\"standoff\":15},\"zerolinecolor\":\"white\",\"zerolinewidth\":2}}},\"xaxis\":{\"anchor\":\"y\",\"domain\":[0.0,1.0],\"title\":{\"text\":\"Count\"}},\"yaxis\":{\"anchor\":\"x\",\"domain\":[0.0,1.0],\"title\":{\"text\":\"Words\"},\"categoryorder\":\"array\",\"categoryarray\":[\"terrorist\",\"woman\",\"cant\",\"ur\",\"hate\",\"look\",\"even\",\"time\",\"women\",\"support\",\"see\",\"got\",\"use\",\"want\",\"would\",\"right\",\"mkr\",\"christian\",\"white\",\"think\",\"know\",\"go\",\"amp\",\"bitch\",\"islam\",\"ass\",\"make\",\"black\",\"say\",\"idiot\",\"get\",\"rt\",\"one\",\"im\",\"call\",\"u\",\"dont\",\"gay\",\"rape\",\"peopl\",\"muslim\",\"high\",\"dumb\",\"joke\",\"girl\",\"nigger\",\"like\",\"fuck\",\"school\",\"bulli\"]},\"legend\":{\"title\":{\"text\":\"Words\"},\"tracegroupgap\":0},\"title\":{\"text\":\"Top 50 words in the tweets\"},\"barmode\":\"relative\",\"height\":1000,\"width\":600},                        {\"responsive\": true}                    ).then(function(){\n",
              "                            \n",
              "var gd = document.getElementById('fd12fd74-2744-4581-8dcf-6f3862ad80d3');\n",
              "var x = new MutationObserver(function (mutations, observer) {{\n",
              "        var display = window.getComputedStyle(gd).display;\n",
              "        if (!display || display === 'none') {{\n",
              "            console.log([gd, 'removed!']);\n",
              "            Plotly.purge(gd);\n",
              "            observer.disconnect();\n",
              "        }}\n",
              "}});\n",
              "\n",
              "// Listen for the removal of the full notebook cells\n",
              "var notebookContainer = gd.closest('#notebook-container');\n",
              "if (notebookContainer) {{\n",
              "    x.observe(notebookContainer, {childList: true});\n",
              "}}\n",
              "\n",
              "// Listen for the clearing of the current output cell\n",
              "var outputEl = gd.closest('.output');\n",
              "if (outputEl) {{\n",
              "    x.observe(outputEl, {childList: true});\n",
              "}}\n",
              "\n",
              "                        })                };                            </script>        </div>\n",
              "</body>\n",
              "</html>"
            ]
          },
          "metadata": {}
        }
      ]
    },
    {
      "cell_type": "code",
      "source": [
        "df[\"cyberbullying_type\"].value_counts()"
      ],
      "metadata": {
        "colab": {
          "base_uri": "https://localhost:8080/"
        },
        "id": "7iFC38VBDXIr",
        "outputId": "7b6a1d02-a5a1-4cf1-e452-5a5524073635"
      },
      "execution_count": null,
      "outputs": [
        {
          "output_type": "execute_result",
          "data": {
            "text/plain": [
              "religion             7947\n",
              "age                  7886\n",
              "ethnicity            7748\n",
              "not_cyberbullying    7650\n",
              "gender               7608\n",
              "Name: cyberbullying_type, dtype: int64"
            ]
          },
          "metadata": {},
          "execution_count": 166
        }
      ]
    },
    {
      "cell_type": "code",
      "source": [
        "text_len = []\n",
        "for text in df.new_tweet_text:\n",
        "    tweet_len = len(text.split())\n",
        "    text_len.append(tweet_len)\n",
        "df['text_len'] = text_len"
      ],
      "metadata": {
        "colab": {
          "base_uri": "https://localhost:8080/"
        },
        "id": "PNkvWS3tGnHA",
        "outputId": "fa76a32a-b357-4556-c302-ed4dae445f83"
      },
      "execution_count": null,
      "outputs": [
        {
          "output_type": "stream",
          "name": "stderr",
          "text": [
            "/usr/local/lib/python3.7/dist-packages/ipykernel_launcher.py:5: SettingWithCopyWarning:\n",
            "\n",
            "\n",
            "A value is trying to be set on a copy of a slice from a DataFrame.\n",
            "Try using .loc[row_indexer,col_indexer] = value instead\n",
            "\n",
            "See the caveats in the documentation: https://pandas.pydata.org/pandas-docs/stable/user_guide/indexing.html#returning-a-view-versus-a-copy\n",
            "\n"
          ]
        }
      ]
    },
    {
      "cell_type": "code",
      "source": [
        "df = df[df['text_len'] > 5]"
      ],
      "metadata": {
        "id": "5D5dyNhYGq1b"
      },
      "execution_count": null,
      "outputs": []
    },
    {
      "cell_type": "code",
      "source": [
        "df.sort_values(by=['text_len'], ascending=False)"
      ],
      "metadata": {
        "colab": {
          "base_uri": "https://localhost:8080/",
          "height": 424
        },
        "id": "a5cSFQYbGuoE",
        "outputId": "8ec80fb4-5ccd-4d86-d6dd-425804cf9465"
      },
      "execution_count": null,
      "outputs": [
        {
          "output_type": "execute_result",
          "data": {
            "text/plain": [
              "                                              tweet_text cyberbullying_type  \\\n",
              "44035  You so black and white trying to live like a n...          ethnicity   \n",
              "45165  @hermdiggz: “@tayyoung_: FUCK OBAMA, dumb ass ...          ethnicity   \n",
              "1317   @EurekAlertAAAS: Researchers push to import to...  not_cyberbullying   \n",
              "33724  ... I don't feel guilty for killing him, I jus...                age   \n",
              "47037  @Purely_Ambition: Sooo mad. RT @TracePeterson ...          ethnicity   \n",
              "...                                                  ...                ...   \n",
              "44358    “@tayyoung_: FUCK OBAMA, dumb ass nigger” hater          ethnicity   \n",
              "14165  RT @Matt_Toppa I hate women sports analysts #n...             gender   \n",
              "3944   @CherguiaMbark A single brotherhood, from the ...  not_cyberbullying   \n",
              "44367   RT @ChainReactionzz: Fuck Obama care dumb nigger          ethnicity   \n",
              "5764          Do Drasko &amp; Bianca like anything? #MKR  not_cyberbullying   \n",
              "\n",
              "                                          new_tweet_text  \\\n",
              "44035  black white tri live like nigger pahahahaha co...   \n",
              "45165  fuck obama dumb ass nigger bitch ltthi whore s...   \n",
              "1317   research push import top antibulli program us ...   \n",
              "33724  dont feel guilti kill feel guilti enjoy tormen...   \n",
              "47037  sooo mad rt fuck obama dumb nigger im go switz...   \n",
              "...                                                  ...   \n",
              "44358                   fuck obama dumb ass nigger hater   \n",
              "14165              rt hate women sport analyst notsexist   \n",
              "3944            singl brotherhood idiot said muslim shia   \n",
              "44367                     rt fuck obama care dumb nigger   \n",
              "5764                    drasko amp bianca like anyth mkr   \n",
              "\n",
              "                                              tweet_list  text_len  \n",
              "44035  [black, white, tri, live, like, nigger, pahaha...       190  \n",
              "45165  [fuck, obama, dumb, ass, nigger, bitch, ltthi,...       164  \n",
              "1317   [research, push, import, top, antibulli, progr...       146  \n",
              "33724  [dont, feel, guilti, kill, feel, guilti, enjoy...       138  \n",
              "47037  [sooo, mad, rt, fuck, obama, dumb, nigger, im,...       126  \n",
              "...                                                  ...       ...  \n",
              "44358            [fuck, obama, dumb, ass, nigger, hater]         6  \n",
              "14165       [rt, hate, women, sport, analyst, notsexist]         6  \n",
              "3944     [singl, brotherhood, idiot, said, muslim, shia]         6  \n",
              "44367              [rt, fuck, obama, care, dumb, nigger]         6  \n",
              "5764             [drasko, amp, bianca, like, anyth, mkr]         6  \n",
              "\n",
              "[34737 rows x 5 columns]"
            ],
            "text/html": [
              "\n",
              "  <div id=\"df-b4051da2-40b0-40b4-a4a6-cab4ef4bbe25\">\n",
              "    <div class=\"colab-df-container\">\n",
              "      <div>\n",
              "<style scoped>\n",
              "    .dataframe tbody tr th:only-of-type {\n",
              "        vertical-align: middle;\n",
              "    }\n",
              "\n",
              "    .dataframe tbody tr th {\n",
              "        vertical-align: top;\n",
              "    }\n",
              "\n",
              "    .dataframe thead th {\n",
              "        text-align: right;\n",
              "    }\n",
              "</style>\n",
              "<table border=\"1\" class=\"dataframe\">\n",
              "  <thead>\n",
              "    <tr style=\"text-align: right;\">\n",
              "      <th></th>\n",
              "      <th>tweet_text</th>\n",
              "      <th>cyberbullying_type</th>\n",
              "      <th>new_tweet_text</th>\n",
              "      <th>tweet_list</th>\n",
              "      <th>text_len</th>\n",
              "    </tr>\n",
              "  </thead>\n",
              "  <tbody>\n",
              "    <tr>\n",
              "      <th>44035</th>\n",
              "      <td>You so black and white trying to live like a n...</td>\n",
              "      <td>ethnicity</td>\n",
              "      <td>black white tri live like nigger pahahahaha co...</td>\n",
              "      <td>[black, white, tri, live, like, nigger, pahaha...</td>\n",
              "      <td>190</td>\n",
              "    </tr>\n",
              "    <tr>\n",
              "      <th>45165</th>\n",
              "      <td>@hermdiggz: “@tayyoung_: FUCK OBAMA, dumb ass ...</td>\n",
              "      <td>ethnicity</td>\n",
              "      <td>fuck obama dumb ass nigger bitch ltthi whore s...</td>\n",
              "      <td>[fuck, obama, dumb, ass, nigger, bitch, ltthi,...</td>\n",
              "      <td>164</td>\n",
              "    </tr>\n",
              "    <tr>\n",
              "      <th>1317</th>\n",
              "      <td>@EurekAlertAAAS: Researchers push to import to...</td>\n",
              "      <td>not_cyberbullying</td>\n",
              "      <td>research push import top antibulli program us ...</td>\n",
              "      <td>[research, push, import, top, antibulli, progr...</td>\n",
              "      <td>146</td>\n",
              "    </tr>\n",
              "    <tr>\n",
              "      <th>33724</th>\n",
              "      <td>... I don't feel guilty for killing him, I jus...</td>\n",
              "      <td>age</td>\n",
              "      <td>dont feel guilti kill feel guilti enjoy tormen...</td>\n",
              "      <td>[dont, feel, guilti, kill, feel, guilti, enjoy...</td>\n",
              "      <td>138</td>\n",
              "    </tr>\n",
              "    <tr>\n",
              "      <th>47037</th>\n",
              "      <td>@Purely_Ambition: Sooo mad. RT @TracePeterson ...</td>\n",
              "      <td>ethnicity</td>\n",
              "      <td>sooo mad rt fuck obama dumb nigger im go switz...</td>\n",
              "      <td>[sooo, mad, rt, fuck, obama, dumb, nigger, im,...</td>\n",
              "      <td>126</td>\n",
              "    </tr>\n",
              "    <tr>\n",
              "      <th>...</th>\n",
              "      <td>...</td>\n",
              "      <td>...</td>\n",
              "      <td>...</td>\n",
              "      <td>...</td>\n",
              "      <td>...</td>\n",
              "    </tr>\n",
              "    <tr>\n",
              "      <th>44358</th>\n",
              "      <td>“@tayyoung_: FUCK OBAMA, dumb ass nigger” hater</td>\n",
              "      <td>ethnicity</td>\n",
              "      <td>fuck obama dumb ass nigger hater</td>\n",
              "      <td>[fuck, obama, dumb, ass, nigger, hater]</td>\n",
              "      <td>6</td>\n",
              "    </tr>\n",
              "    <tr>\n",
              "      <th>14165</th>\n",
              "      <td>RT @Matt_Toppa I hate women sports analysts #n...</td>\n",
              "      <td>gender</td>\n",
              "      <td>rt hate women sport analyst notsexist</td>\n",
              "      <td>[rt, hate, women, sport, analyst, notsexist]</td>\n",
              "      <td>6</td>\n",
              "    </tr>\n",
              "    <tr>\n",
              "      <th>3944</th>\n",
              "      <td>@CherguiaMbark A single brotherhood, from the ...</td>\n",
              "      <td>not_cyberbullying</td>\n",
              "      <td>singl brotherhood idiot said muslim shia</td>\n",
              "      <td>[singl, brotherhood, idiot, said, muslim, shia]</td>\n",
              "      <td>6</td>\n",
              "    </tr>\n",
              "    <tr>\n",
              "      <th>44367</th>\n",
              "      <td>RT @ChainReactionzz: Fuck Obama care dumb nigger</td>\n",
              "      <td>ethnicity</td>\n",
              "      <td>rt fuck obama care dumb nigger</td>\n",
              "      <td>[rt, fuck, obama, care, dumb, nigger]</td>\n",
              "      <td>6</td>\n",
              "    </tr>\n",
              "    <tr>\n",
              "      <th>5764</th>\n",
              "      <td>Do Drasko &amp;amp; Bianca like anything? #MKR</td>\n",
              "      <td>not_cyberbullying</td>\n",
              "      <td>drasko amp bianca like anyth mkr</td>\n",
              "      <td>[drasko, amp, bianca, like, anyth, mkr]</td>\n",
              "      <td>6</td>\n",
              "    </tr>\n",
              "  </tbody>\n",
              "</table>\n",
              "<p>34737 rows × 5 columns</p>\n",
              "</div>\n",
              "      <button class=\"colab-df-convert\" onclick=\"convertToInteractive('df-b4051da2-40b0-40b4-a4a6-cab4ef4bbe25')\"\n",
              "              title=\"Convert this dataframe to an interactive table.\"\n",
              "              style=\"display:none;\">\n",
              "        \n",
              "  <svg xmlns=\"http://www.w3.org/2000/svg\" height=\"24px\"viewBox=\"0 0 24 24\"\n",
              "       width=\"24px\">\n",
              "    <path d=\"M0 0h24v24H0V0z\" fill=\"none\"/>\n",
              "    <path d=\"M18.56 5.44l.94 2.06.94-2.06 2.06-.94-2.06-.94-.94-2.06-.94 2.06-2.06.94zm-11 1L8.5 8.5l.94-2.06 2.06-.94-2.06-.94L8.5 2.5l-.94 2.06-2.06.94zm10 10l.94 2.06.94-2.06 2.06-.94-2.06-.94-.94-2.06-.94 2.06-2.06.94z\"/><path d=\"M17.41 7.96l-1.37-1.37c-.4-.4-.92-.59-1.43-.59-.52 0-1.04.2-1.43.59L10.3 9.45l-7.72 7.72c-.78.78-.78 2.05 0 2.83L4 21.41c.39.39.9.59 1.41.59.51 0 1.02-.2 1.41-.59l7.78-7.78 2.81-2.81c.8-.78.8-2.07 0-2.86zM5.41 20L4 18.59l7.72-7.72 1.47 1.35L5.41 20z\"/>\n",
              "  </svg>\n",
              "      </button>\n",
              "      \n",
              "  <style>\n",
              "    .colab-df-container {\n",
              "      display:flex;\n",
              "      flex-wrap:wrap;\n",
              "      gap: 12px;\n",
              "    }\n",
              "\n",
              "    .colab-df-convert {\n",
              "      background-color: #E8F0FE;\n",
              "      border: none;\n",
              "      border-radius: 50%;\n",
              "      cursor: pointer;\n",
              "      display: none;\n",
              "      fill: #1967D2;\n",
              "      height: 32px;\n",
              "      padding: 0 0 0 0;\n",
              "      width: 32px;\n",
              "    }\n",
              "\n",
              "    .colab-df-convert:hover {\n",
              "      background-color: #E2EBFA;\n",
              "      box-shadow: 0px 1px 2px rgba(60, 64, 67, 0.3), 0px 1px 3px 1px rgba(60, 64, 67, 0.15);\n",
              "      fill: #174EA6;\n",
              "    }\n",
              "\n",
              "    [theme=dark] .colab-df-convert {\n",
              "      background-color: #3B4455;\n",
              "      fill: #D2E3FC;\n",
              "    }\n",
              "\n",
              "    [theme=dark] .colab-df-convert:hover {\n",
              "      background-color: #434B5C;\n",
              "      box-shadow: 0px 1px 3px 1px rgba(0, 0, 0, 0.15);\n",
              "      filter: drop-shadow(0px 1px 2px rgba(0, 0, 0, 0.3));\n",
              "      fill: #FFFFFF;\n",
              "    }\n",
              "  </style>\n",
              "\n",
              "      <script>\n",
              "        const buttonEl =\n",
              "          document.querySelector('#df-b4051da2-40b0-40b4-a4a6-cab4ef4bbe25 button.colab-df-convert');\n",
              "        buttonEl.style.display =\n",
              "          google.colab.kernel.accessAllowed ? 'block' : 'none';\n",
              "\n",
              "        async function convertToInteractive(key) {\n",
              "          const element = document.querySelector('#df-b4051da2-40b0-40b4-a4a6-cab4ef4bbe25');\n",
              "          const dataTable =\n",
              "            await google.colab.kernel.invokeFunction('convertToInteractive',\n",
              "                                                     [key], {});\n",
              "          if (!dataTable) return;\n",
              "\n",
              "          const docLinkHtml = 'Like what you see? Visit the ' +\n",
              "            '<a target=\"_blank\" href=https://colab.research.google.com/notebooks/data_table.ipynb>data table notebook</a>'\n",
              "            + ' to learn more about interactive tables.';\n",
              "          element.innerHTML = '';\n",
              "          dataTable['output_type'] = 'display_data';\n",
              "          await google.colab.output.renderOutput(dataTable, element);\n",
              "          const docLink = document.createElement('div');\n",
              "          docLink.innerHTML = docLinkHtml;\n",
              "          element.appendChild(docLink);\n",
              "        }\n",
              "      </script>\n",
              "    </div>\n",
              "  </div>\n",
              "  "
            ]
          },
          "metadata": {},
          "execution_count": 170
        }
      ]
    },
    {
      "cell_type": "code",
      "source": [
        "df[\"cyberbullying_type\"].value_counts()"
      ],
      "metadata": {
        "colab": {
          "base_uri": "https://localhost:8080/"
        },
        "id": "fYpe9vFbXDfz",
        "outputId": "dc79a2d5-95e0-442f-f27d-e21003db9c51"
      },
      "execution_count": null,
      "outputs": [
        {
          "output_type": "execute_result",
          "data": {
            "text/plain": [
              "religion             7673\n",
              "age                  7582\n",
              "ethnicity            7404\n",
              "gender               6920\n",
              "not_cyberbullying    5158\n",
              "Name: cyberbullying_type, dtype: int64"
            ]
          },
          "metadata": {},
          "execution_count": 171
        }
      ]
    },
    {
      "cell_type": "code",
      "source": [
        "from sklearn.preprocessing import LabelEncoder\n",
        "\n",
        "label_encoder = LabelEncoder()\n",
        "df[\"cyberbullying_type\"] = label_encoder.fit_transform(df[\"cyberbullying_type\"])\n",
        "df[\"cyberbullying_type\"]"
      ],
      "metadata": {
        "id": "7yrfeCxyHKij",
        "colab": {
          "base_uri": "https://localhost:8080/"
        },
        "outputId": "3768f12b-1a49-4069-9310-4719f2e45051"
      },
      "execution_count": null,
      "outputs": [
        {
          "output_type": "stream",
          "name": "stderr",
          "text": [
            "/usr/local/lib/python3.7/dist-packages/ipykernel_launcher.py:4: SettingWithCopyWarning:\n",
            "\n",
            "\n",
            "A value is trying to be set on a copy of a slice from a DataFrame.\n",
            "Try using .loc[row_indexer,col_indexer] = value instead\n",
            "\n",
            "See the caveats in the documentation: https://pandas.pydata.org/pandas-docs/stable/user_guide/indexing.html#returning-a-view-versus-a-copy\n",
            "\n"
          ]
        },
        {
          "output_type": "execute_result",
          "data": {
            "text/plain": [
              "1        3\n",
              "3        3\n",
              "4        3\n",
              "5        3\n",
              "6        3\n",
              "        ..\n",
              "47687    1\n",
              "47688    1\n",
              "47689    1\n",
              "47690    1\n",
              "47691    1\n",
              "Name: cyberbullying_type, Length: 34737, dtype: int64"
            ]
          },
          "metadata": {},
          "execution_count": 172
        }
      ]
    },
    {
      "cell_type": "code",
      "source": [
        "plt.figure(figsize=(9,4))\n",
        "sns.countplot(df.cyberbullying_type,palette=\"pastel\")"
      ],
      "metadata": {
        "colab": {
          "base_uri": "https://localhost:8080/",
          "height": 372
        },
        "id": "6MUVUxUKU7cl",
        "outputId": "14079bab-68de-4f2f-a6d6-0ae42f288431"
      },
      "execution_count": null,
      "outputs": [
        {
          "output_type": "stream",
          "name": "stderr",
          "text": [
            "/usr/local/lib/python3.7/dist-packages/seaborn/_decorators.py:43: FutureWarning:\n",
            "\n",
            "Pass the following variable as a keyword arg: x. From version 0.12, the only valid positional argument will be `data`, and passing other arguments without an explicit keyword will result in an error or misinterpretation.\n",
            "\n"
          ]
        },
        {
          "output_type": "execute_result",
          "data": {
            "text/plain": [
              "<matplotlib.axes._subplots.AxesSubplot at 0x7f445bcc4d90>"
            ]
          },
          "metadata": {},
          "execution_count": 173
        },
        {
          "output_type": "display_data",
          "data": {
            "text/plain": [
              "<Figure size 648x288 with 1 Axes>"
            ],
            "image/png": "[encoded data removed]"
          },
          "metadata": {
            "needs_background": "light"
          }
        }
      ]
    },
    {
      "cell_type": "code",
      "source": [
        "df[\"cyberbullying_type\"].value_counts()"
      ],
      "metadata": {
        "colab": {
          "base_uri": "https://localhost:8080/"
        },
        "id": "-Jwa1qBbXtKZ",
        "outputId": "a5c4be1c-e02a-4d33-a364-8773bc66a7e4"
      },
      "execution_count": null,
      "outputs": [
        {
          "output_type": "execute_result",
          "data": {
            "text/plain": [
              "4    7673\n",
              "0    7582\n",
              "1    7404\n",
              "2    6920\n",
              "3    5158\n",
              "Name: cyberbullying_type, dtype: int64"
            ]
          },
          "metadata": {},
          "execution_count": 174
        }
      ]
    },
    {
      "cell_type": "code",
      "source": [
        "X = df['new_tweet_text']\n",
        "y = df['cyberbullying_type']"
      ],
      "metadata": {
        "id": "QjC5sEIbHm-R"
      },
      "execution_count": null,
      "outputs": []
    },
    {
      "cell_type": "code",
      "source": [
        "x_train, x_test, y_train, y_test = train_test_split(X, y, test_size=0.2, stratify=y, random_state=42)"
      ],
      "metadata": {
        "id": "NcluFFsrIpk8"
      },
      "execution_count": null,
      "outputs": []
    },
    {
      "cell_type": "code",
      "source": [
        "print(x_train.shape, y_train.shape)\n",
        "print(x_test.shape, y_test.shape)"
      ],
      "metadata": {
        "colab": {
          "base_uri": "https://localhost:8080/"
        },
        "id": "AiaTZuC4IyTR",
        "outputId": "bdeae523-278f-46db-aefd-54eaa0981c95"
      },
      "execution_count": null,
      "outputs": [
        {
          "output_type": "stream",
          "name": "stdout",
          "text": [
            "(27789,) (27789,)\n",
            "(6948,) (6948,)\n"
          ]
        }
      ]
    },
    {
      "cell_type": "code",
      "source": [
        "from sklearn.feature_extraction.text import TfidfTransformer\n",
        "from sklearn.feature_extraction.text import TfidfVectorizer\n",
        "\n",
        "vectorizer = TfidfVectorizer(max_features= 700)\n",
        "train_vectors = vectorizer.fit_transform(x_train)\n",
        "text_vectors = vectorizer.transform(x_test)"
      ],
      "metadata": {
        "id": "I2EzWTfLSNVM"
      },
      "execution_count": null,
      "outputs": []
    },
    {
      "cell_type": "markdown",
      "source": [
        "# **Model 1**"
      ],
      "metadata": {
        "id": "9MrPcbZQPZjB"
      }
    },
    {
      "cell_type": "code",
      "source": [
        "from sklearn.ensemble import RandomForestClassifier\n",
        "\n",
        "rfc = RandomForestClassifier(max_depth=350, n_estimators=100, class_weight=\"balanced\")\n",
        "rfc.fit(train_vectors, y_train)\n"
      ],
      "metadata": {
        "colab": {
          "base_uri": "https://localhost:8080/"
        },
        "id": "BrxWOBguLoh_",
        "outputId": "4de2db16-fdc5-446e-f76a-8d56757ef23b"
      },
      "execution_count": null,
      "outputs": [
        {
          "output_type": "execute_result",
          "data": {
            "text/plain": [
              "RandomForestClassifier(class_weight='balanced', max_depth=350)"
            ]
          },
          "metadata": {},
          "execution_count": 179
        }
      ]
    },
    {
      "cell_type": "code",
      "source": [
        "print('Training Score\\t= ', rfc.score(train_vectors, y_train), '\\nTesting Score\\t= ', rfc.score(text_vectors, y_test))"
      ],
      "metadata": {
        "colab": {
          "base_uri": "https://localhost:8080/"
        },
        "id": "ZGfhAt0gawui",
        "outputId": "1bd97c1c-dc27-4bf2-db26-21bc5bfdbd9b"
      },
      "execution_count": null,
      "outputs": [
        {
          "output_type": "stream",
          "name": "stdout",
          "text": [
            "Training Score\t=  0.9993882471481521 \n",
            "Testing Score\t=  0.9330742659758203\n"
          ]
        }
      ]
    },
    {
      "cell_type": "code",
      "source": [
        "print('Training Predict\\t= ', rfc.predict(train_vectors), '\\nTesting Predict\\t= ', rfc.predict(text_vectors))"
      ],
      "metadata": {
        "colab": {
          "base_uri": "https://localhost:8080/"
        },
        "id": "RI5idnOUPevA",
        "outputId": "3c7fb1fd-c7d0-4902-f4d7-a1e08e89d101"
      },
      "execution_count": null,
      "outputs": [
        {
          "output_type": "stream",
          "name": "stdout",
          "text": [
            "Training Predict\t=  [2 1 1 ... 2 1 0] \n",
            "Testing Predict\t=  [3 3 1 ... 4 2 1]\n"
          ]
        }
      ]
    },
    {
      "cell_type": "code",
      "source": [
        "from sklearn.metrics import classification_report, confusion_matrix, accuracy_score"
      ],
      "metadata": {
        "id": "iKU5NoorRbR4"
      },
      "execution_count": null,
      "outputs": []
    },
    {
      "cell_type": "code",
      "source": [
        "print(classification_report(y_test, rfc.predict(text_vectors)))"
      ],
      "metadata": {
        "colab": {
          "base_uri": "https://localhost:8080/"
        },
        "id": "ArCcBZ-OR9ym",
        "outputId": "ff43bc96-af4a-4bdc-8643-6a396d156f4f"
      },
      "execution_count": null,
      "outputs": [
        {
          "output_type": "stream",
          "name": "stdout",
          "text": [
            "              precision    recall  f1-score   support\n",
            "\n",
            "           0       0.98      0.98      0.98      1516\n",
            "           1       0.99      0.98      0.99      1481\n",
            "           2       0.93      0.88      0.91      1384\n",
            "           3       0.76      0.84      0.80      1032\n",
            "           4       0.96      0.95      0.96      1535\n",
            "\n",
            "    accuracy                           0.93      6948\n",
            "   macro avg       0.92      0.93      0.93      6948\n",
            "weighted avg       0.94      0.93      0.93      6948\n",
            "\n"
          ]
        }
      ]
    },
    {
      "cell_type": "code",
      "source": [
        "print('Confusion Matrice:\\n', confusion_matrix(y_test, rfc.predict(text_vectors)))"
      ],
      "metadata": {
        "colab": {
          "base_uri": "https://localhost:8080/"
        },
        "id": "JbJz9h9WRQFE",
        "outputId": "1268dc50-3bf5-428c-ac88-9f12d7273f8b"
      },
      "execution_count": null,
      "outputs": [
        {
          "output_type": "stream",
          "name": "stdout",
          "text": [
            "Confusion Matrice:\n",
            " [[1479    1    2   34    0]\n",
            " [   2 1453    5   16    5]\n",
            " [   3    3 1220  155    3]\n",
            " [  28    9   77  869   49]\n",
            " [   1    1    6   65 1462]]\n"
          ]
        }
      ]
    },
    {
      "cell_type": "markdown",
      "source": [
        "# **Model 2**"
      ],
      "metadata": {
        "id": "VXO5_Lt7PTJW"
      }
    },
    {
      "cell_type": "code",
      "source": [
        "rfc1 = RandomForestClassifier(max_depth=200, n_estimators=250, class_weight=\"balanced\", min_samples_leaf=3, max_features= \"log2\")\n",
        "rfc1.fit(train_vectors, y_train)"
      ],
      "metadata": {
        "colab": {
          "base_uri": "https://localhost:8080/"
        },
        "id": "yljvCBxNPfHR",
        "outputId": "d2beabd7-e3e1-47a8-a562-045671fcdb1d"
      },
      "execution_count": null,
      "outputs": [
        {
          "output_type": "execute_result",
          "data": {
            "text/plain": [
              "RandomForestClassifier(class_weight='balanced', max_depth=200,\n",
              "                       max_features='log2', min_samples_leaf=3,\n",
              "                       n_estimators=250)"
            ]
          },
          "metadata": {},
          "execution_count": 185
        }
      ]
    },
    {
      "cell_type": "code",
      "source": [
        "print('Training Score\\t= ', rfc1.score(train_vectors, y_train), '\\nTesting Score\\t= ', rfc1.score(text_vectors, y_test))"
      ],
      "metadata": {
        "colab": {
          "base_uri": "https://localhost:8080/"
        },
        "id": "VggGmXkWP2ts",
        "outputId": "f0449226-5309-4682-bd1b-740a9f27427f"
      },
      "execution_count": null,
      "outputs": [
        {
          "output_type": "stream",
          "name": "stdout",
          "text": [
            "Training Score\t=  0.9467415164273634 \n",
            "Testing Score\t=  0.932930339666091\n"
          ]
        }
      ]
    },
    {
      "cell_type": "code",
      "source": [
        "print(classification_report(y_test, rfc1.predict(text_vectors)))"
      ],
      "metadata": {
        "colab": {
          "base_uri": "https://localhost:8080/"
        },
        "id": "4-PpfBw6P-x7",
        "outputId": "a3cc426a-f4d6-480d-ccd9-fcf374662741"
      },
      "execution_count": null,
      "outputs": [
        {
          "output_type": "stream",
          "name": "stdout",
          "text": [
            "              precision    recall  f1-score   support\n",
            "\n",
            "           0       0.97      0.98      0.98      1516\n",
            "           1       0.99      0.98      0.98      1481\n",
            "           2       0.96      0.86      0.91      1384\n",
            "           3       0.76      0.87      0.81      1032\n",
            "           4       0.96      0.95      0.95      1535\n",
            "\n",
            "    accuracy                           0.93      6948\n",
            "   macro avg       0.93      0.93      0.93      6948\n",
            "weighted avg       0.94      0.93      0.93      6948\n",
            "\n"
          ]
        }
      ]
    },
    {
      "cell_type": "code",
      "source": [
        "print('Confusion Matrice:\\n', confusion_matrix(y_test, rfc.predict(text_vectors)))"
      ],
      "metadata": {
        "colab": {
          "base_uri": "https://localhost:8080/"
        },
        "id": "WCfr1IduQGnL",
        "outputId": "d823dbf2-9d8b-41a4-ac95-66606f42f823"
      },
      "execution_count": null,
      "outputs": [
        {
          "output_type": "stream",
          "name": "stdout",
          "text": [
            "Confusion Matrice:\n",
            " [[1479    1    2   34    0]\n",
            " [   2 1453    5   16    5]\n",
            " [   3    3 1220  155    3]\n",
            " [  28    9   77  869   49]\n",
            " [   1    1    6   65 1462]]\n"
          ]
        }
      ]
    },
    {
      "cell_type": "markdown",
      "source": [
        "# **Testing dengan data baru**"
      ],
      "metadata": {
        "id": "AIgj3nTFfWJW"
      }
    },
    {
      "cell_type": "code",
      "source": [
        "new_added_tweets = [\"🚨 Kylian Mbappé will STAY at Paris Saint-Germain. He’s definitely not joining Real Madrid this summer, the final decision has been made and communicated to Florentino Perez. 🤝 #Mbappé\", \"Ricky Gervais defends 'taboo' comedy after backlash I think this man is very funny and very courageous. He’s being bashed by the leftist liberal radicals because he dares to include humor about the LGBT whatever groups.\", \" love a nigga that’s obsessed wit me bc i b obsessed wit my nigga\", \"İ believe the suspect is moeslem, or maybe russian, or maybe black, or maybe al qaeda.Because white  was never doing this terrible terror..\", \"An Afghan-Muslim boy was found hung at his high school in Webb City, Missouri and zero news outlets are covering it. He was a refugee and his family does not speak English so the lack of coverage is a result of officials taking advantage. Please share #JusticeforRezwan !\", \"Did you know that the current President of Singapore (one of the most successful and advanced countries in the world) is a hijab wearing Muslim - Mrs Halimah Yacob? 🇸🇬 Alhamdulillah. 🇫🇷France please take note..\"]"
      ],
      "metadata": {
        "id": "o6eKj3PkfoH4"
      },
      "execution_count": null,
      "outputs": []
    },
    {
      "cell_type": "code",
      "source": [
        "df1 = pd.DataFrame({\"tweet_text\" : new_added_tweets})\n",
        "df1"
      ],
      "metadata": {
        "colab": {
          "base_uri": "https://localhost:8080/",
          "height": 238
        },
        "id": "Tu6mWeMfiHFA",
        "outputId": "813eb751-a197-4799-e6ee-36d801ada125"
      },
      "execution_count": null,
      "outputs": [
        {
          "output_type": "execute_result",
          "data": {
            "text/plain": [
              "                                          tweet_text\n",
              "0  🚨 Kylian Mbappé will STAY at Paris Saint-Germa...\n",
              "1  Ricky Gervais defends 'taboo' comedy after bac...\n",
              "2   love a nigga that’s obsessed wit me bc i b ob...\n",
              "3  İ believe the suspect is moeslem, or maybe rus...\n",
              "4  An Afghan-Muslim boy was found hung at his hig...\n",
              "5  Did you know that the current President of Sin..."
            ],
            "text/html": [
              "\n",
              "  <div id=\"df-bc7795aa-83c9-4b11-856d-bbf9c59a2f12\">\n",
              "    <div class=\"colab-df-container\">\n",
              "      <div>\n",
              "<style scoped>\n",
              "    .dataframe tbody tr th:only-of-type {\n",
              "        vertical-align: middle;\n",
              "    }\n",
              "\n",
              "    .dataframe tbody tr th {\n",
              "        vertical-align: top;\n",
              "    }\n",
              "\n",
              "    .dataframe thead th {\n",
              "        text-align: right;\n",
              "    }\n",
              "</style>\n",
              "<table border=\"1\" class=\"dataframe\">\n",
              "  <thead>\n",
              "    <tr style=\"text-align: right;\">\n",
              "      <th></th>\n",
              "      <th>tweet_text</th>\n",
              "    </tr>\n",
              "  </thead>\n",
              "  <tbody>\n",
              "    <tr>\n",
              "      <th>0</th>\n",
              "      <td>🚨 Kylian Mbappé will STAY at Paris Saint-Germa...</td>\n",
              "    </tr>\n",
              "    <tr>\n",
              "      <th>1</th>\n",
              "      <td>Ricky Gervais defends 'taboo' comedy after bac...</td>\n",
              "    </tr>\n",
              "    <tr>\n",
              "      <th>2</th>\n",
              "      <td>love a nigga that’s obsessed wit me bc i b ob...</td>\n",
              "    </tr>\n",
              "    <tr>\n",
              "      <th>3</th>\n",
              "      <td>İ believe the suspect is moeslem, or maybe rus...</td>\n",
              "    </tr>\n",
              "    <tr>\n",
              "      <th>4</th>\n",
              "      <td>An Afghan-Muslim boy was found hung at his hig...</td>\n",
              "    </tr>\n",
              "    <tr>\n",
              "      <th>5</th>\n",
              "      <td>Did you know that the current President of Sin...</td>\n",
              "    </tr>\n",
              "  </tbody>\n",
              "</table>\n",
              "</div>\n",
              "      <button class=\"colab-df-convert\" onclick=\"convertToInteractive('df-bc7795aa-83c9-4b11-856d-bbf9c59a2f12')\"\n",
              "              title=\"Convert this dataframe to an interactive table.\"\n",
              "              style=\"display:none;\">\n",
              "        \n",
              "  <svg xmlns=\"http://www.w3.org/2000/svg\" height=\"24px\"viewBox=\"0 0 24 24\"\n",
              "       width=\"24px\">\n",
              "    <path d=\"M0 0h24v24H0V0z\" fill=\"none\"/>\n",
              "    <path d=\"M18.56 5.44l.94 2.06.94-2.06 2.06-.94-2.06-.94-.94-2.06-.94 2.06-2.06.94zm-11 1L8.5 8.5l.94-2.06 2.06-.94-2.06-.94L8.5 2.5l-.94 2.06-2.06.94zm10 10l.94 2.06.94-2.06 2.06-.94-2.06-.94-.94-2.06-.94 2.06-2.06.94z\"/><path d=\"M17.41 7.96l-1.37-1.37c-.4-.4-.92-.59-1.43-.59-.52 0-1.04.2-1.43.59L10.3 9.45l-7.72 7.72c-.78.78-.78 2.05 0 2.83L4 21.41c.39.39.9.59 1.41.59.51 0 1.02-.2 1.41-.59l7.78-7.78 2.81-2.81c.8-.78.8-2.07 0-2.86zM5.41 20L4 18.59l7.72-7.72 1.47 1.35L5.41 20z\"/>\n",
              "  </svg>\n",
              "      </button>\n",
              "      \n",
              "  <style>\n",
              "    .colab-df-container {\n",
              "      display:flex;\n",
              "      flex-wrap:wrap;\n",
              "      gap: 12px;\n",
              "    }\n",
              "\n",
              "    .colab-df-convert {\n",
              "      background-color: #E8F0FE;\n",
              "      border: none;\n",
              "      border-radius: 50%;\n",
              "      cursor: pointer;\n",
              "      display: none;\n",
              "      fill: #1967D2;\n",
              "      height: 32px;\n",
              "      padding: 0 0 0 0;\n",
              "      width: 32px;\n",
              "    }\n",
              "\n",
              "    .colab-df-convert:hover {\n",
              "      background-color: #E2EBFA;\n",
              "      box-shadow: 0px 1px 2px rgba(60, 64, 67, 0.3), 0px 1px 3px 1px rgba(60, 64, 67, 0.15);\n",
              "      fill: #174EA6;\n",
              "    }\n",
              "\n",
              "    [theme=dark] .colab-df-convert {\n",
              "      background-color: #3B4455;\n",
              "      fill: #D2E3FC;\n",
              "    }\n",
              "\n",
              "    [theme=dark] .colab-df-convert:hover {\n",
              "      background-color: #434B5C;\n",
              "      box-shadow: 0px 1px 3px 1px rgba(0, 0, 0, 0.15);\n",
              "      filter: drop-shadow(0px 1px 2px rgba(0, 0, 0, 0.3));\n",
              "      fill: #FFFFFF;\n",
              "    }\n",
              "  </style>\n",
              "\n",
              "      <script>\n",
              "        const buttonEl =\n",
              "          document.querySelector('#df-bc7795aa-83c9-4b11-856d-bbf9c59a2f12 button.colab-df-convert');\n",
              "        buttonEl.style.display =\n",
              "          google.colab.kernel.accessAllowed ? 'block' : 'none';\n",
              "\n",
              "        async function convertToInteractive(key) {\n",
              "          const element = document.querySelector('#df-bc7795aa-83c9-4b11-856d-bbf9c59a2f12');\n",
              "          const dataTable =\n",
              "            await google.colab.kernel.invokeFunction('convertToInteractive',\n",
              "                                                     [key], {});\n",
              "          if (!dataTable) return;\n",
              "\n",
              "          const docLinkHtml = 'Like what you see? Visit the ' +\n",
              "            '<a target=\"_blank\" href=https://colab.research.google.com/notebooks/data_table.ipynb>data table notebook</a>'\n",
              "            + ' to learn more about interactive tables.';\n",
              "          element.innerHTML = '';\n",
              "          dataTable['output_type'] = 'display_data';\n",
              "          await google.colab.output.renderOutput(dataTable, element);\n",
              "          const docLink = document.createElement('div');\n",
              "          docLink.innerHTML = docLinkHtml;\n",
              "          element.appendChild(docLink);\n",
              "        }\n",
              "      </script>\n",
              "    </div>\n",
              "  </div>\n",
              "  "
            ]
          },
          "metadata": {},
          "execution_count": 190
        }
      ]
    },
    {
      "cell_type": "code",
      "source": [
        "clean_new_text = []\n",
        "for o in df1.tweet_text:\n",
        "    clean_new_text.append(deep_clean(o))"
      ],
      "metadata": {
        "colab": {
          "base_uri": "https://localhost:8080/"
        },
        "id": "aPqOG27ofanq",
        "outputId": "5d50faf9-7c1f-4c1f-843a-9b93046bc430"
      },
      "execution_count": null,
      "outputs": [
        {
          "output_type": "stream",
          "name": "stderr",
          "text": [
            "/usr/local/lib/python3.7/dist-packages/ipykernel_launcher.py:5: DeprecationWarning:\n",
            "\n",
            "'emoji.get_emoji_regexp()' is deprecated and will be removed in version 2.0.0. If you want to remove emoji from a string, consider the method emoji.replace_emoji(str, replace='').\n",
            "To hide this warning, pin/downgrade the package to 'emoji~=1.6.3'\n",
            "\n"
          ]
        }
      ]
    },
    {
      "cell_type": "code",
      "source": [
        "clean_new_text"
      ],
      "metadata": {
        "colab": {
          "base_uri": "https://localhost:8080/"
        },
        "id": "qn08olf2kG2B",
        "outputId": "5c7c1278-355c-41f7-dbaa-8d1798989564"
      },
      "execution_count": null,
      "outputs": [
        {
          "output_type": "execute_result",
          "data": {
            "text/plain": [
              "['kylian mbapp stay pari saintgermain he definit join real madrid summer final decis made commun florentino perez mbapp',\n",
              " 'ricki gervai defend taboo comedi backlash think man funni courag he bash leftist liber radic dare includ humor lgbt whatev group',\n",
              " 'love nigga that obsess wit bc b obsess wit nigga',\n",
              " 'believ suspect moeslem mayb russian mayb black mayb al qaedabecaus white never terribl terror',\n",
              " 'afghanmuslim boy found hung high school webb citi missouri zero news outlet cover refuge famili speak english lack coverag result offici take advantag pleas share',\n",
              " 'know current presid singapor one success advanc countri world hijab wear muslim mr halimah yacob alhamdulillah franc pleas take note']"
            ]
          },
          "metadata": {},
          "execution_count": 192
        }
      ]
    },
    {
      "cell_type": "code",
      "source": [
        "new_test = vectorizer.transform(clean_new_text)\n",
        "print(new_test)"
      ],
      "metadata": {
        "colab": {
          "base_uri": "https://localhost:8080/"
        },
        "id": "h-Q1gxHoj4wH",
        "outputId": "dbd68ef5-2cd9-4c82-f821-350f7165ee33"
      },
      "execution_count": null,
      "outputs": [
        {
          "output_type": "stream",
          "name": "stdout",
          "text": [
            "  (0, 575)\t0.3689510733757826\n",
            "  (0, 495)\t0.3196367657040723\n",
            "  (0, 367)\t0.28709803582069227\n",
            "  (0, 323)\t0.4047928996615001\n",
            "  (0, 272)\t0.3117884234331206\n",
            "  (0, 215)\t0.40027468910294334\n",
            "  (0, 152)\t0.3762395404082377\n",
            "  (0, 116)\t0.34122841351016236\n",
            "  (1, 663)\t0.3728547062084701\n",
            "  (1, 607)\t0.22764532438760415\n",
            "  (1, 490)\t0.26745437209814493\n",
            "  (1, 371)\t0.2656719026719691\n",
            "  (1, 349)\t0.36443098229578713\n",
            "  (1, 303)\t0.3847555569313232\n",
            "  (1, 272)\t0.29929103819839215\n",
            "  (1, 256)\t0.30912451449592276\n",
            "  (1, 235)\t0.287212924371269\n",
            "  (1, 151)\t0.34434348975723045\n",
            "  (2, 603)\t0.33004211235377284\n",
            "  (2, 414)\t0.7810311759295213\n",
            "  (2, 365)\t0.3387205784080889\n",
            "  (2, 58)\t0.4078368252893532\n",
            "  (3, 664)\t0.18562363799649154\n",
            "  (3, 600)\t0.21489513988050565\n",
            "  (3, 409)\t0.20420969572147538\n",
            "  (3, 376)\t0.829230388257903\n",
            "  (3, 71)\t0.17618387924059287\n",
            "  (3, 63)\t0.23578319363817216\n",
            "  (3, 18)\t0.32156621950882164\n",
            "  (4, 591)\t0.26054568469268796\n",
            "  (4, 568)\t0.31356420680976543\n",
            "  (4, 539)\t0.3694436959246007\n",
            "  (4, 523)\t0.14135591712365503\n",
            "  (4, 457)\t0.3036225213204023\n",
            "  (4, 411)\t0.34793503996609004\n",
            "  (4, 280)\t0.16883755307807027\n",
            "  (4, 226)\t0.33703133397129176\n",
            "  (4, 204)\t0.31830709228899745\n",
            "  (4, 130)\t0.37218372747640827\n",
            "  (4, 77)\t0.2866033770470116\n",
            "  (5, 677)\t0.33837321142571514\n",
            "  (5, 656)\t0.40816015699681485\n",
            "  (5, 591)\t0.32531913967734344\n",
            "  (5, 469)\t0.4150628878696897\n",
            "  (5, 457)\t0.3791051751216787\n",
            "  (5, 434)\t0.2403879254496514\n",
            "  (5, 402)\t0.22364513397999689\n",
            "  (5, 334)\t0.26899146977498606\n",
            "  (5, 128)\t0.34193342514586994\n"
          ]
        }
      ]
    },
    {
      "cell_type": "code",
      "source": [
        "rfc.predict(new_test)"
      ],
      "metadata": {
        "colab": {
          "base_uri": "https://localhost:8080/"
        },
        "id": "BilJ8J31lh_M",
        "outputId": "8efae856-8781-4631-c651-25671da60984"
      },
      "execution_count": null,
      "outputs": [
        {
          "output_type": "execute_result",
          "data": {
            "text/plain": [
              "array([3, 4, 1, 4, 0, 4])"
            ]
          },
          "metadata": {},
          "execution_count": 194
        }
      ]
    },
    {
      "cell_type": "code",
      "source": [
        "rfc1.predict(new_test)"
      ],
      "metadata": {
        "colab": {
          "base_uri": "https://localhost:8080/"
        },
        "id": "P4ABmiCDQJlg",
        "outputId": "6563fb70-b29f-4a9e-e4dc-3a93c7b499d1"
      },
      "execution_count": null,
      "outputs": [
        {
          "output_type": "execute_result",
          "data": {
            "text/plain": [
              "array([3, 4, 1, 4, 0, 4])"
            ]
          },
          "metadata": {},
          "execution_count": 195
        }
      ]
    }
  ]
}